{
 "cells": [
  {
   "cell_type": "code",
   "execution_count": 1,
   "metadata": {},
   "outputs": [],
   "source": [
    "import re\n",
    "from nltk.tokenize import sent_tokenize,word_tokenize \n",
    "import string"
   ]
  },
  {
   "cell_type": "code",
   "execution_count": 2,
   "metadata": {},
   "outputs": [],
   "source": [
    "txtfile=\"week_8_document2.txt\"\n",
    "with open(txtfile, 'rb') as f:\n",
    "    thisText = f.read()"
   ]
  },
  {
   "cell_type": "code",
   "execution_count": 3,
   "metadata": {},
   "outputs": [
    {
     "name": "stdout",
     "output_type": "stream",
     "text": [
      "b'\\r\\nDr. Yawn\\r\\nby Earl Vickers \\r\\nfrom Boring Bedtime Stories \\x97 An Anthology for Insomniacs\\r\\n \\r\\n \\r\\nIt started, harmlessly enough, with a high-school science fair project \\x96 \\x93Why Are Yawns Contagious?\\x94 But one thing led to another until here he was, the world\\x92s foremost expert on a subject no one cared about, a topic equally suicidal at career conferences and cocktail parties.\\r\\n \\r\\nFor reasons he did not fully understand, the discussion of yawning was considered almost as rude and/or boring as the act itself. The mere mention of his research would inevitably bring about a minor epidemic of uncontrollable yawns, whether behind his back, disguised by a hand, or right to his face. In this way he had ruined countless conventions, meetings, concerts, bachelor parties and wedding receptions, until the number of invitations, both social and professional, had dwindled to nothing.\\r\\n \\r\\nThis was doubly unfortunate, because while they lasted, these social encounters served as laboratories for additional field research. At the conclusion of each ill-fated encounter, he would quietly retire to a corner of the room and take meticulous notes. Sometimes he would surreptitiously time these discussions with a stopwatch, carefully noting the length of the initial gestation period, or pre-delay; the duration of the long inspiratory phase; the precise moment of the acme, or orgasmic peak of the yawn; the short expiration period; the contagion interval; and the rate at which new bystanders were afflicted. He would also gather as much data as possible regarding the people involved, in an effort to derive correlations between personality type and susceptibility to yawn contagion.\\r\\n \\r\\nRealizing that most people did not share his fascination for learning about yawning\\x92s paralinguistic value, its role as a complex arousal defense reflex, its origin in the reticular brainstem, or theories on its relation to borderline hypoxia, he had tried to spice up his discussions with famous quotations, such as Aristotle\\x92s: \\x93As a donkey urinates when he sees or hears another donkey doing it, so also man yawns seeing someone else do so.\\x94 He even used his joke about the pharmacological connection between yawning and spontaneous erection \\x97 \"Am I boring you to death, or are you just happy to see me?\" But without fail, the recipient of these conversations would ask to be excused and, covering mouth with hand, make a beeline for anywhere else.\\r\\n \\r\\nSadly, his work had suffered in recent years. He seemed unable to concentrate. Often he would fall asleep in the middle of his research or while writing a paper. Even when he managed to complete an article, it was rarely either accepted or rejected \\x97 it was simply ignored, as if the manuscript had become unreadable. In the academic world of \\x93publish or perish,\\x94 he was on the perish path.\\r\\n \\r\\nStudents rarely came to his office any more. He missed seeing their bright, inquisitive eyes, lighting up briefly before eventually disappearing behind heavy lids, the flame of curiosity gradually flickering in the wind of physiologic research before finally being extinguished by discussions of serotoninergic inhibition, neuromuscular spindles, adrenocorticotropic hormone-related peptides and hypothalamic dopaminergic mechanisms.\\r\\n \\r\\nHe had particularly enjoyed showing his students a nearly fascinating portrait that hung on his wall. This painting, he believed, should have been priceless, as it apparently dated from the time of the Renaissance, but he had managed to obtain it from its ignorant owner for a few hundred dollars. He suspected the portrait to be one spoken of by Leonardo da Vinci: \\x93An artist once painted a picture which made everybody who saw it yawn and yawn repeatedly as long as they kept their eyes on the picture, which represented a man who was also yawning.\\x94\\r\\n \\r\\nThe professor had hoped this painting would impress upon his students the reality and immediacy of the contagion phenomenon and trigger an avalanche of questions, but often the students would suddenly remember an urgent appointment on the other side of campus.\\r\\n \\r\\nHis lectures had a reputation for being, if not mesmerizing, at least somniferous. It was rumored that he once managed to render an entire classroom unconscious, but this was almost certainly an exaggeration. At any rate, students displayed remarkable ingenuity in devising new ways to conceal, stifle and swallow their yawns. They developed elaborate alarm systems to keep each other awake during exams and when called upon during class. Meanwhile, students who suffered from insomnia would frequently audit his classes in search of a cure for their condition.\\r\\n \\r\\nOn one recent evening, the professor sat up in bed, reviewing his life. He recalled with some satisfaction his breakthroughs in the areas of fetal yawn research, temporary yawn-related hearing loss and hysterical paroxysmal yawning. He fondly remembered the (mostly seated) ovation he received from those still awake as he finished presenting his groundbreaking paper on the role of yawning in mate selection. While his one non-technical book, The Joy of Yawning, and his monograph \\x93Yawn Proudly,\\x94 never quite reached the broader audiences for whom they were intended, he was nonetheless proud of his efforts to popularize the subject. He had done all one man could do. \\r\\n \\r\\n\\x93Not such a bad life,\\x94 he reflected, stretching out in bed and closing his eyes. Soon, perhaps, the dean, the mayor, or the President would awaken him, asking for his help, something about a kidnapping or a terrorist plot, his expertise desperately needed, the megaphone or cell phone placed in his hand, his dulcet tones calming, relaxing, defusing the situation, until everyone drifts off to sleep, soft, warm, comfortable sleep, no problems that can\\x92t wait for another day. He would sleep now, wake tomorrow to the thanks of a grateful nation.\\r\\n \\r\\n \\r\\n \\r\\nhttps://www.museumofconceptualart.com/stories/boringbedtimestories/dryawn.html\\r\\n \\r\\n \\r\\n \\r\\n\\r\\n'\n"
     ]
    }
   ],
   "source": [
    "print(thisText)"
   ]
  },
  {
   "cell_type": "code",
   "execution_count": 4,
   "metadata": {},
   "outputs": [],
   "source": [
    "thisText=thisText.decode(\"utf-8\", \"ignore\")"
   ]
  },
  {
   "cell_type": "code",
   "execution_count": 5,
   "metadata": {},
   "outputs": [
    {
     "name": "stdout",
     "output_type": "stream",
     "text": [
      "\r\n",
      "Dr. Yawn\r\n",
      "by Earl Vickers \r\n",
      "from Boring Bedtime Stories  An Anthology for Insomniacs\r\n",
      " \r\n",
      " \r\n",
      "It started, harmlessly enough, with a high-school science fair project  Why Are Yawns Contagious? But one thing led to another until here he was, the worlds foremost expert on a subject no one cared about, a topic equally suicidal at career conferences and cocktail parties.\r\n",
      " \r\n",
      "For reasons he did not fully understand, the discussion of yawning was considered almost as rude and/or boring as the act itself. The mere mention of his research would inevitably bring about a minor epidemic of uncontrollable yawns, whether behind his back, disguised by a hand, or right to his face. In this way he had ruined countless conventions, meetings, concerts, bachelor parties and wedding receptions, until the number of invitations, both social and professional, had dwindled to nothing.\r\n",
      " \r\n",
      "This was doubly unfortunate, because while they lasted, these social encounters served as laboratories for additional field research. At the conclusion of each ill-fated encounter, he would quietly retire to a corner of the room and take meticulous notes. Sometimes he would surreptitiously time these discussions with a stopwatch, carefully noting the length of the initial gestation period, or pre-delay; the duration of the long inspiratory phase; the precise moment of the acme, or orgasmic peak of the yawn; the short expiration period; the contagion interval; and the rate at which new bystanders were afflicted. He would also gather as much data as possible regarding the people involved, in an effort to derive correlations between personality type and susceptibility to yawn contagion.\r\n",
      " \r\n",
      "Realizing that most people did not share his fascination for learning about yawnings paralinguistic value, its role as a complex arousal defense reflex, its origin in the reticular brainstem, or theories on its relation to borderline hypoxia, he had tried to spice up his discussions with famous quotations, such as Aristotles: As a donkey urinates when he sees or hears another donkey doing it, so also man yawns seeing someone else do so. He even used his joke about the pharmacological connection between yawning and spontaneous erection  \"Am I boring you to death, or are you just happy to see me?\" But without fail, the recipient of these conversations would ask to be excused and, covering mouth with hand, make a beeline for anywhere else.\r\n",
      " \r\n",
      "Sadly, his work had suffered in recent years. He seemed unable to concentrate. Often he would fall asleep in the middle of his research or while writing a paper. Even when he managed to complete an article, it was rarely either accepted or rejected  it was simply ignored, as if the manuscript had become unreadable. In the academic world of publish or perish, he was on the perish path.\r\n",
      " \r\n",
      "Students rarely came to his office any more. He missed seeing their bright, inquisitive eyes, lighting up briefly before eventually disappearing behind heavy lids, the flame of curiosity gradually flickering in the wind of physiologic research before finally being extinguished by discussions of serotoninergic inhibition, neuromuscular spindles, adrenocorticotropic hormone-related peptides and hypothalamic dopaminergic mechanisms.\r\n",
      " \r\n",
      "He had particularly enjoyed showing his students a nearly fascinating portrait that hung on his wall. This painting, he believed, should have been priceless, as it apparently dated from the time of the Renaissance, but he had managed to obtain it from its ignorant owner for a few hundred dollars. He suspected the portrait to be one spoken of by Leonardo da Vinci: An artist once painted a picture which made everybody who saw it yawn and yawn repeatedly as long as they kept their eyes on the picture, which represented a man who was also yawning.\r\n",
      " \r\n",
      "The professor had hoped this painting would impress upon his students the reality and immediacy of the contagion phenomenon and trigger an avalanche of questions, but often the students would suddenly remember an urgent appointment on the other side of campus.\r\n",
      " \r\n",
      "His lectures had a reputation for being, if not mesmerizing, at least somniferous. It was rumored that he once managed to render an entire classroom unconscious, but this was almost certainly an exaggeration. At any rate, students displayed remarkable ingenuity in devising new ways to conceal, stifle and swallow their yawns. They developed elaborate alarm systems to keep each other awake during exams and when called upon during class. Meanwhile, students who suffered from insomnia would frequently audit his classes in search of a cure for their condition.\r\n",
      " \r\n",
      "On one recent evening, the professor sat up in bed, reviewing his life. He recalled with some satisfaction his breakthroughs in the areas of fetal yawn research, temporary yawn-related hearing loss and hysterical paroxysmal yawning. He fondly remembered the (mostly seated) ovation he received from those still awake as he finished presenting his groundbreaking paper on the role of yawning in mate selection. While his one non-technical book, The Joy of Yawning, and his monograph Yawn Proudly, never quite reached the broader audiences for whom they were intended, he was nonetheless proud of his efforts to popularize the subject. He had done all one man could do. \r\n",
      " \r\n",
      "Not such a bad life, he reflected, stretching out in bed and closing his eyes. Soon, perhaps, the dean, the mayor, or the President would awaken him, asking for his help, something about a kidnapping or a terrorist plot, his expertise desperately needed, the megaphone or cell phone placed in his hand, his dulcet tones calming, relaxing, defusing the situation, until everyone drifts off to sleep, soft, warm, comfortable sleep, no problems that cant wait for another day. He would sleep now, wake tomorrow to the thanks of a grateful nation.\r\n",
      " \r\n",
      " \r\n",
      " \r\n",
      "https://www.museumofconceptualart.com/stories/boringbedtimestories/dryawn.html\r\n",
      " \r\n",
      " \r\n",
      " \r\n",
      "\r\n",
      "\n"
     ]
    }
   ],
   "source": [
    "print(thisText)"
   ]
  },
  {
   "cell_type": "code",
   "execution_count": 6,
   "metadata": {},
   "outputs": [
    {
     "name": "stdout",
     "output_type": "stream",
     "text": [
      "\r\n",
      "Dr Yawn\r\n",
      "by Earl Vickers \r\n",
      "from Boring Bedtime Stories  An Anthology for Insomniacs\r\n",
      " \r\n",
      " \r\n",
      "It started harmlessly enough with a highschool science fair project  Why Are Yawns Contagious But one thing led to another until here he was the worlds foremost expert on a subject no one cared about a topic equally suicidal at career conferences and cocktail parties\r\n",
      " \r\n",
      "For reasons he did not fully understand the discussion of yawning was considered almost as rude andor boring as the act itself The mere mention of his research would inevitably bring about a minor epidemic of uncontrollable yawns whether behind his back disguised by a hand or right to his face In this way he had ruined countless conventions meetings concerts bachelor parties and wedding receptions until the number of invitations both social and professional had dwindled to nothing\r\n",
      " \r\n",
      "This was doubly unfortunate because while they lasted these social encounters served as laboratories for additional field research At the conclusion of each illfated encounter he would quietly retire to a corner of the room and take meticulous notes Sometimes he would surreptitiously time these discussions with a stopwatch carefully noting the length of the initial gestation period or predelay the duration of the long inspiratory phase the precise moment of the acme or orgasmic peak of the yawn the short expiration period the contagion interval and the rate at which new bystanders were afflicted He would also gather as much data as possible regarding the people involved in an effort to derive correlations between personality type and susceptibility to yawn contagion\r\n",
      " \r\n",
      "Realizing that most people did not share his fascination for learning about yawnings paralinguistic value its role as a complex arousal defense reflex its origin in the reticular brainstem or theories on its relation to borderline hypoxia he had tried to spice up his discussions with famous quotations such as Aristotles As a donkey urinates when he sees or hears another donkey doing it so also man yawns seeing someone else do so He even used his joke about the pharmacological connection between yawning and spontaneous erection  Am I boring you to death or are you just happy to see me But without fail the recipient of these conversations would ask to be excused and covering mouth with hand make a beeline for anywhere else\r\n",
      " \r\n",
      "Sadly his work had suffered in recent years He seemed unable to concentrate Often he would fall asleep in the middle of his research or while writing a paper Even when he managed to complete an article it was rarely either accepted or rejected  it was simply ignored as if the manuscript had become unreadable In the academic world of publish or perish he was on the perish path\r\n",
      " \r\n",
      "Students rarely came to his office any more He missed seeing their bright inquisitive eyes lighting up briefly before eventually disappearing behind heavy lids the flame of curiosity gradually flickering in the wind of physiologic research before finally being extinguished by discussions of serotoninergic inhibition neuromuscular spindles adrenocorticotropic hormonerelated peptides and hypothalamic dopaminergic mechanisms\r\n",
      " \r\n",
      "He had particularly enjoyed showing his students a nearly fascinating portrait that hung on his wall This painting he believed should have been priceless as it apparently dated from the time of the Renaissance but he had managed to obtain it from its ignorant owner for a few hundred dollars He suspected the portrait to be one spoken of by Leonardo da Vinci An artist once painted a picture which made everybody who saw it yawn and yawn repeatedly as long as they kept their eyes on the picture which represented a man who was also yawning\r\n",
      " \r\n",
      "The professor had hoped this painting would impress upon his students the reality and immediacy of the contagion phenomenon and trigger an avalanche of questions but often the students would suddenly remember an urgent appointment on the other side of campus\r\n",
      " \r\n",
      "His lectures had a reputation for being if not mesmerizing at least somniferous It was rumored that he once managed to render an entire classroom unconscious but this was almost certainly an exaggeration At any rate students displayed remarkable ingenuity in devising new ways to conceal stifle and swallow their yawns They developed elaborate alarm systems to keep each other awake during exams and when called upon during class Meanwhile students who suffered from insomnia would frequently audit his classes in search of a cure for their condition\r\n",
      " \r\n",
      "On one recent evening the professor sat up in bed reviewing his life He recalled with some satisfaction his breakthroughs in the areas of fetal yawn research temporary yawnrelated hearing loss and hysterical paroxysmal yawning He fondly remembered the mostly seated ovation he received from those still awake as he finished presenting his groundbreaking paper on the role of yawning in mate selection While his one nontechnical book The Joy of Yawning and his monograph Yawn Proudly never quite reached the broader audiences for whom they were intended he was nonetheless proud of his efforts to popularize the subject He had done all one man could do \r\n",
      " \r\n",
      "Not such a bad life he reflected stretching out in bed and closing his eyes Soon perhaps the dean the mayor or the President would awaken him asking for his help something about a kidnapping or a terrorist plot his expertise desperately needed the megaphone or cell phone placed in his hand his dulcet tones calming relaxing defusing the situation until everyone drifts off to sleep soft warm comfortable sleep no problems that cant wait for another day He would sleep now wake tomorrow to the thanks of a grateful nation\r\n",
      " \r\n",
      " \r\n",
      " \r\n",
      "httpswwwmuseumofconceptualartcomstoriesboringbedtimestoriesdryawnhtml\r\n",
      " \r\n",
      " \r\n",
      " \r\n",
      "\r\n",
      "\n"
     ]
    }
   ],
   "source": [
    "temp=thisText.translate(str.maketrans('', '', string.punctuation))\n",
    "print(temp)"
   ]
  },
  {
   "cell_type": "code",
   "execution_count": 7,
   "metadata": {},
   "outputs": [
    {
     "data": {
      "text/plain": [
       "['\\r\\nDr Yawn\\r\\nby Earl Vickers \\r\\nfrom Boring Bedtime Stories  An Anthology for Insomniacs\\r\\n \\r\\n \\r\\nIt started harmlessly enough with a highschool science fair project  Why Are Yawns Contagious But one thing led to another until here he was the worlds foremost expert on a subject no one cared about a topic equally suicidal at career conferences and cocktail parties\\r\\n \\r\\nFor reasons he did not fully understand the discussion of yawning was considered almost as rude andor boring as the act itself The mere mention of his research would inevitably bring about a minor epidemic of uncontrollable yawns whether behind his back disguised by a hand or right to his face In this way he had ruined countless conventions meetings concerts bachelor parties and wedding receptions until the number of invitations both social and professional had dwindled to nothing\\r\\n \\r\\nThis was doubly unfortunate because while they lasted these social encounters served as laboratories for additional field research At the conclusion of each illfated encounter he would quietly retire to a corner of the room and take meticulous notes Sometimes he would surreptitiously time these discussions with a stopwatch carefully noting the length of the initial gestation period or predelay the duration of the long inspiratory phase the precise moment of the acme or orgasmic peak of the yawn the short expiration period the contagion interval and the rate at which new bystanders were afflicted He would also gather as much data as possible regarding the people involved in an effort to derive correlations between personality type and susceptibility to yawn contagion\\r\\n \\r\\nRealizing that most people did not share his fascination for learning about yawnings paralinguistic value its role as a complex arousal defense reflex its origin in the reticular brainstem or theories on its relation to borderline hypoxia he had tried to spice up his discussions with famous quotations such as Aristotles As a donkey urinates when he sees or hears another donkey doing it so also man yawns seeing someone else do so He even used his joke about the pharmacological connection between yawning and spontaneous erection  Am I boring you to death or are you just happy to see me But without fail the recipient of these conversations would ask to be excused and covering mouth with hand make a beeline for anywhere else\\r\\n \\r\\nSadly his work had suffered in recent years He seemed unable to concentrate Often he would fall asleep in the middle of his research or while writing a paper Even when he managed to complete an article it was rarely either accepted or rejected  it was simply ignored as if the manuscript had become unreadable In the academic world of publish or perish he was on the perish path\\r\\n \\r\\nStudents rarely came to his office any more He missed seeing their bright inquisitive eyes lighting up briefly before eventually disappearing behind heavy lids the flame of curiosity gradually flickering in the wind of physiologic research before finally being extinguished by discussions of serotoninergic inhibition neuromuscular spindles adrenocorticotropic hormonerelated peptides and hypothalamic dopaminergic mechanisms\\r\\n \\r\\nHe had particularly enjoyed showing his students a nearly fascinating portrait that hung on his wall This painting he believed should have been priceless as it apparently dated from the time of the Renaissance but he had managed to obtain it from its ignorant owner for a few hundred dollars He suspected the portrait to be one spoken of by Leonardo da Vinci An artist once painted a picture which made everybody who saw it yawn and yawn repeatedly as long as they kept their eyes on the picture which represented a man who was also yawning\\r\\n \\r\\nThe professor had hoped this painting would impress upon his students the reality and immediacy of the contagion phenomenon and trigger an avalanche of questions but often the students would suddenly remember an urgent appointment on the other side of campus\\r\\n \\r\\nHis lectures had a reputation for being if not mesmerizing at least somniferous It was rumored that he once managed to render an entire classroom unconscious but this was almost certainly an exaggeration At any rate students displayed remarkable ingenuity in devising new ways to conceal stifle and swallow their yawns They developed elaborate alarm systems to keep each other awake during exams and when called upon during class Meanwhile students who suffered from insomnia would frequently audit his classes in search of a cure for their condition\\r\\n \\r\\nOn one recent evening the professor sat up in bed reviewing his life He recalled with some satisfaction his breakthroughs in the areas of fetal yawn research temporary yawnrelated hearing loss and hysterical paroxysmal yawning He fondly remembered the mostly seated ovation he received from those still awake as he finished presenting his groundbreaking paper on the role of yawning in mate selection While his one nontechnical book The Joy of Yawning and his monograph Yawn Proudly never quite reached the broader audiences for whom they were intended he was nonetheless proud of his efforts to popularize the subject He had done all one man could do \\r\\n \\r\\nNot such a bad life he reflected stretching out in bed and closing his eyes Soon perhaps the dean the mayor or the President would awaken him asking for his help something about a kidnapping or a terrorist plot his expertise desperately needed the megaphone or cell phone placed in his hand his dulcet tones calming relaxing defusing the situation until everyone drifts off to sleep soft warm comfortable sleep no problems that cant wait for another day He would sleep now wake tomorrow to the thanks of a grateful nation\\r\\n \\r\\n \\r\\n \\r\\nhttpswwwmuseumofconceptualartcomstoriesboringbedtimestoriesdryawnhtml']"
      ]
     },
     "execution_count": 7,
     "metadata": {},
     "output_type": "execute_result"
    }
   ],
   "source": [
    "sent_tokenize_list = sent_tokenize(temp)\n",
    "sent_tokenize_list"
   ]
  },
  {
   "cell_type": "code",
   "execution_count": 8,
   "metadata": {},
   "outputs": [
    {
     "name": "stdout",
     "output_type": "stream",
     "text": [
      "['Dr', 'Yawn', 'by', 'Earl', 'Vickers', 'from', 'Boring', 'Bedtime', 'Stories', 'An', 'Anthology', 'for', 'Insomniacs', 'It', 'started', 'harmlessly', 'enough', 'with', 'a', 'highschool', 'science', 'fair', 'project', 'Why', 'Are', 'Yawns', 'Contagious', 'But', 'one', 'thing', 'led', 'to', 'another', 'until', 'here', 'he', 'was', 'the', 'worlds', 'foremost', 'expert', 'on', 'a', 'subject', 'no', 'one', 'cared', 'about', 'a', 'topic', 'equally', 'suicidal', 'at', 'career', 'conferences', 'and', 'cocktail', 'parties', 'For', 'reasons', 'he', 'did', 'not', 'fully', 'understand', 'the', 'discussion', 'of', 'yawning', 'was', 'considered', 'almost', 'as', 'rude', 'andor', 'boring', 'as', 'the', 'act', 'itself', 'The', 'mere', 'mention', 'of', 'his', 'research', 'would', 'inevitably', 'bring', 'about', 'a', 'minor', 'epidemic', 'of', 'uncontrollable', 'yawns', 'whether', 'behind', 'his', 'back', 'disguised', 'by', 'a', 'hand', 'or', 'right', 'to', 'his', 'face', 'In', 'this', 'way', 'he', 'had', 'ruined', 'countless', 'conventions', 'meetings', 'concerts', 'bachelor', 'parties', 'and', 'wedding', 'receptions', 'until', 'the', 'number', 'of', 'invitations', 'both', 'social', 'and', 'professional', 'had', 'dwindled', 'to', 'nothing', 'This', 'was', 'doubly', 'unfortunate', 'because', 'while', 'they', 'lasted', 'these', 'social', 'encounters', 'served', 'as', 'laboratories', 'for', 'additional', 'field', 'research', 'At', 'the', 'conclusion', 'of', 'each', 'illfated', 'encounter', 'he', 'would', 'quietly', 'retire', 'to', 'a', 'corner', 'of', 'the', 'room', 'and', 'take', 'meticulous', 'notes', 'Sometimes', 'he', 'would', 'surreptitiously', 'time', 'these', 'discussions', 'with', 'a', 'stopwatch', 'carefully', 'noting', 'the', 'length', 'of', 'the', 'initial', 'gestation', 'period', 'or', 'predelay', 'the', 'duration', 'of', 'the', 'long', 'inspiratory', 'phase', 'the', 'precise', 'moment', 'of', 'the', 'acme', 'or', 'orgasmic', 'peak', 'of', 'the', 'yawn', 'the', 'short', 'expiration', 'period', 'the', 'contagion', 'interval', 'and', 'the', 'rate', 'at', 'which', 'new', 'bystanders', 'were', 'afflicted', 'He', 'would', 'also', 'gather', 'as', 'much', 'data', 'as', 'possible', 'regarding', 'the', 'people', 'involved', 'in', 'an', 'effort', 'to', 'derive', 'correlations', 'between', 'personality', 'type', 'and', 'susceptibility', 'to', 'yawn', 'contagion', 'Realizing', 'that', 'most', 'people', 'did', 'not', 'share', 'his', 'fascination', 'for', 'learning', 'about', 'yawnings', 'paralinguistic', 'value', 'its', 'role', 'as', 'a', 'complex', 'arousal', 'defense', 'reflex', 'its', 'origin', 'in', 'the', 'reticular', 'brainstem', 'or', 'theories', 'on', 'its', 'relation', 'to', 'borderline', 'hypoxia', 'he', 'had', 'tried', 'to', 'spice', 'up', 'his', 'discussions', 'with', 'famous', 'quotations', 'such', 'as', 'Aristotles', 'As', 'a', 'donkey', 'urinates', 'when', 'he', 'sees', 'or', 'hears', 'another', 'donkey', 'doing', 'it', 'so', 'also', 'man', 'yawns', 'seeing', 'someone', 'else', 'do', 'so', 'He', 'even', 'used', 'his', 'joke', 'about', 'the', 'pharmacological', 'connection', 'between', 'yawning', 'and', 'spontaneous', 'erection', 'Am', 'I', 'boring', 'you', 'to', 'death', 'or', 'are', 'you', 'just', 'happy', 'to', 'see', 'me', 'But', 'without', 'fail', 'the', 'recipient', 'of', 'these', 'conversations', 'would', 'ask', 'to', 'be', 'excused', 'and', 'covering', 'mouth', 'with', 'hand', 'make', 'a', 'beeline', 'for', 'anywhere', 'else', 'Sadly', 'his', 'work', 'had', 'suffered', 'in', 'recent', 'years', 'He', 'seemed', 'unable', 'to', 'concentrate', 'Often', 'he', 'would', 'fall', 'asleep', 'in', 'the', 'middle', 'of', 'his', 'research', 'or', 'while', 'writing', 'a', 'paper', 'Even', 'when', 'he', 'managed', 'to', 'complete', 'an', 'article', 'it', 'was', 'rarely', 'either', 'accepted', 'or', 'rejected', 'it', 'was', 'simply', 'ignored', 'as', 'if', 'the', 'manuscript', 'had', 'become', 'unreadable', 'In', 'the', 'academic', 'world', 'of', 'publish', 'or', 'perish', 'he', 'was', 'on', 'the', 'perish', 'path', 'Students', 'rarely', 'came', 'to', 'his', 'office', 'any', 'more', 'He', 'missed', 'seeing', 'their', 'bright', 'inquisitive', 'eyes', 'lighting', 'up', 'briefly', 'before', 'eventually', 'disappearing', 'behind', 'heavy', 'lids', 'the', 'flame', 'of', 'curiosity', 'gradually', 'flickering', 'in', 'the', 'wind', 'of', 'physiologic', 'research', 'before', 'finally', 'being', 'extinguished', 'by', 'discussions', 'of', 'serotoninergic', 'inhibition', 'neuromuscular', 'spindles', 'adrenocorticotropic', 'hormonerelated', 'peptides', 'and', 'hypothalamic', 'dopaminergic', 'mechanisms', 'He', 'had', 'particularly', 'enjoyed', 'showing', 'his', 'students', 'a', 'nearly', 'fascinating', 'portrait', 'that', 'hung', 'on', 'his', 'wall', 'This', 'painting', 'he', 'believed', 'should', 'have', 'been', 'priceless', 'as', 'it', 'apparently', 'dated', 'from', 'the', 'time', 'of', 'the', 'Renaissance', 'but', 'he', 'had', 'managed', 'to', 'obtain', 'it', 'from', 'its', 'ignorant', 'owner', 'for', 'a', 'few', 'hundred', 'dollars', 'He', 'suspected', 'the', 'portrait', 'to', 'be', 'one', 'spoken', 'of', 'by', 'Leonardo', 'da', 'Vinci', 'An', 'artist', 'once', 'painted', 'a', 'picture', 'which', 'made', 'everybody', 'who', 'saw', 'it', 'yawn', 'and', 'yawn', 'repeatedly', 'as', 'long', 'as', 'they', 'kept', 'their', 'eyes', 'on', 'the', 'picture', 'which', 'represented', 'a', 'man', 'who', 'was', 'also', 'yawning', 'The', 'professor', 'had', 'hoped', 'this', 'painting', 'would', 'impress', 'upon', 'his', 'students', 'the', 'reality', 'and', 'immediacy', 'of', 'the', 'contagion', 'phenomenon', 'and', 'trigger', 'an', 'avalanche', 'of', 'questions', 'but', 'often', 'the', 'students', 'would', 'suddenly', 'remember', 'an', 'urgent', 'appointment', 'on', 'the', 'other', 'side', 'of', 'campus', 'His', 'lectures', 'had', 'a', 'reputation', 'for', 'being', 'if', 'not', 'mesmerizing', 'at', 'least', 'somniferous', 'It', 'was', 'rumored', 'that', 'he', 'once', 'managed', 'to', 'render', 'an', 'entire', 'classroom', 'unconscious', 'but', 'this', 'was', 'almost', 'certainly', 'an', 'exaggeration', 'At', 'any', 'rate', 'students', 'displayed', 'remarkable', 'ingenuity', 'in', 'devising', 'new', 'ways', 'to', 'conceal', 'stifle', 'and', 'swallow', 'their', 'yawns', 'They', 'developed', 'elaborate', 'alarm', 'systems', 'to', 'keep', 'each', 'other', 'awake', 'during', 'exams', 'and', 'when', 'called', 'upon', 'during', 'class', 'Meanwhile', 'students', 'who', 'suffered', 'from', 'insomnia', 'would', 'frequently', 'audit', 'his', 'classes', 'in', 'search', 'of', 'a', 'cure', 'for', 'their', 'condition', 'On', 'one', 'recent', 'evening', 'the', 'professor', 'sat', 'up', 'in', 'bed', 'reviewing', 'his', 'life', 'He', 'recalled', 'with', 'some', 'satisfaction', 'his', 'breakthroughs', 'in', 'the', 'areas', 'of', 'fetal', 'yawn', 'research', 'temporary', 'yawnrelated', 'hearing', 'loss', 'and', 'hysterical', 'paroxysmal', 'yawning', 'He', 'fondly', 'remembered', 'the', 'mostly', 'seated', 'ovation', 'he', 'received', 'from', 'those', 'still', 'awake', 'as', 'he', 'finished', 'presenting', 'his', 'groundbreaking', 'paper', 'on', 'the', 'role', 'of', 'yawning', 'in', 'mate', 'selection', 'While', 'his', 'one', 'nontechnical', 'book', 'The', 'Joy', 'of', 'Yawning', 'and', 'his', 'monograph', 'Yawn', 'Proudly', 'never', 'quite', 'reached', 'the', 'broader', 'audiences', 'for', 'whom', 'they', 'were', 'intended', 'he', 'was', 'nonetheless', 'proud', 'of', 'his', 'efforts', 'to', 'popularize', 'the', 'subject', 'He', 'had', 'done', 'all', 'one', 'man', 'could', 'do', 'Not', 'such', 'a', 'bad', 'life', 'he', 'reflected', 'stretching', 'out', 'in', 'bed', 'and', 'closing', 'his', 'eyes', 'Soon', 'perhaps', 'the', 'dean', 'the', 'mayor', 'or', 'the', 'President', 'would', 'awaken', 'him', 'asking', 'for', 'his', 'help', 'something', 'about', 'a', 'kidnapping', 'or', 'a', 'terrorist', 'plot', 'his', 'expertise', 'desperately', 'needed', 'the', 'megaphone', 'or', 'cell', 'phone', 'placed', 'in', 'his', 'hand', 'his', 'dulcet', 'tones', 'calming', 'relaxing', 'defusing', 'the', 'situation', 'until', 'everyone', 'drifts', 'off', 'to', 'sleep', 'soft', 'warm', 'comfortable', 'sleep', 'no', 'problems', 'that', 'cant', 'wait', 'for', 'another', 'day', 'He', 'would', 'sleep', 'now', 'wake', 'tomorrow', 'to', 'the', 'thanks', 'of', 'a', 'grateful', 'nation', 'httpswwwmuseumofconceptualartcomstoriesboringbedtimestoriesdryawnhtml']"
     ]
    },
    {
     "name": "stdout",
     "output_type": "stream",
     "text": [
      "\n"
     ]
    }
   ],
   "source": [
    "for this_sent in sent_tokenize_list:\n",
    "    word_tokens = word_tokenize(this_sent) \n",
    "    print(word_tokens)"
   ]
  },
  {
   "cell_type": "code",
   "execution_count": 9,
   "metadata": {},
   "outputs": [],
   "source": [
    "from nltk.corpus import stopwords\n",
    "en_stops = set(stopwords.words('english'))"
   ]
  },
  {
   "cell_type": "code",
   "execution_count": 10,
   "metadata": {},
   "outputs": [
    {
     "name": "stdout",
     "output_type": "stream",
     "text": [
      "['Dr', 'Yawn', 'Earl', 'Vickers', 'Boring', 'Bedtime', 'Stories', 'An', 'Anthology', 'Insomniacs', 'It', 'started', 'harmlessly', 'enough', 'highschool', 'science', 'fair', 'project', 'Why', 'Are', 'Yawns', 'Contagious', 'But', 'one', 'thing', 'led', 'another', 'worlds', 'foremost', 'expert', 'subject', 'one', 'cared', 'topic', 'equally', 'suicidal', 'career', 'conferences', 'cocktail', 'parties', 'For', 'reasons', 'fully', 'understand', 'discussion', 'yawning', 'considered', 'almost', 'rude', 'andor', 'boring', 'act', 'The', 'mere', 'mention', 'research', 'would', 'inevitably', 'bring', 'minor', 'epidemic', 'uncontrollable', 'yawns', 'whether', 'behind', 'back', 'disguised', 'hand', 'right', 'face', 'In', 'way', 'ruined', 'countless', 'conventions', 'meetings', 'concerts', 'bachelor', 'parties', 'wedding', 'receptions', 'number', 'invitations', 'social', 'professional', 'dwindled', 'nothing', 'This', 'doubly', 'unfortunate', 'lasted', 'social', 'encounters', 'served', 'laboratories', 'additional', 'field', 'research', 'At', 'conclusion', 'illfated', 'encounter', 'would', 'quietly', 'retire', 'corner', 'room', 'take', 'meticulous', 'notes', 'Sometimes', 'would', 'surreptitiously', 'time', 'discussions', 'stopwatch', 'carefully', 'noting', 'length', 'initial', 'gestation', 'period', 'predelay', 'duration', 'long', 'inspiratory', 'phase', 'precise', 'moment', 'acme', 'orgasmic', 'peak', 'yawn', 'short', 'expiration', 'period', 'contagion', 'interval', 'rate', 'new', 'bystanders', 'afflicted', 'He', 'would', 'also', 'gather', 'much', 'data', 'possible', 'regarding', 'people', 'involved', 'effort', 'derive', 'correlations', 'personality', 'type', 'susceptibility', 'yawn', 'contagion', 'Realizing', 'people', 'share', 'fascination', 'learning', 'yawnings', 'paralinguistic', 'value', 'role', 'complex', 'arousal', 'defense', 'reflex', 'origin', 'reticular', 'brainstem', 'theories', 'relation', 'borderline', 'hypoxia', 'tried', 'spice', 'discussions', 'famous', 'quotations', 'Aristotles', 'As', 'donkey', 'urinates', 'sees', 'hears', 'another', 'donkey', 'also', 'man', 'yawns', 'seeing', 'someone', 'else', 'He', 'even', 'used', 'joke', 'pharmacological', 'connection', 'yawning', 'spontaneous', 'erection', 'Am', 'I', 'boring', 'death', 'happy', 'see', 'But', 'without', 'fail', 'recipient', 'conversations', 'would', 'ask', 'excused', 'covering', 'mouth', 'hand', 'make', 'beeline', 'anywhere', 'else', 'Sadly', 'work', 'suffered', 'recent', 'years', 'He', 'seemed', 'unable', 'concentrate', 'Often', 'would', 'fall', 'asleep', 'middle', 'research', 'writing', 'paper', 'Even', 'managed', 'complete', 'article', 'rarely', 'either', 'accepted', 'rejected', 'simply', 'ignored', 'manuscript', 'become', 'unreadable', 'In', 'academic', 'world', 'publish', 'perish', 'perish', 'path', 'Students', 'rarely', 'came', 'office', 'He', 'missed', 'seeing', 'bright', 'inquisitive', 'eyes', 'lighting', 'briefly', 'eventually', 'disappearing', 'behind', 'heavy', 'lids', 'flame', 'curiosity', 'gradually', 'flickering', 'wind', 'physiologic', 'research', 'finally', 'extinguished', 'discussions', 'serotoninergic', 'inhibition', 'neuromuscular', 'spindles', 'adrenocorticotropic', 'hormonerelated', 'peptides', 'hypothalamic', 'dopaminergic', 'mechanisms', 'He', 'particularly', 'enjoyed', 'showing', 'students', 'nearly', 'fascinating', 'portrait', 'hung', 'wall', 'This', 'painting', 'believed', 'priceless', 'apparently', 'dated', 'time', 'Renaissance', 'managed', 'obtain', 'ignorant', 'owner', 'hundred', 'dollars', 'He', 'suspected', 'portrait', 'one', 'spoken', 'Leonardo', 'da', 'Vinci', 'An', 'artist', 'painted', 'picture', 'made', 'everybody', 'saw', 'yawn', 'yawn', 'repeatedly', 'long', 'kept', 'eyes', 'picture', 'represented', 'man', 'also', 'yawning', 'The', 'professor', 'hoped', 'painting', 'would', 'impress', 'upon', 'students', 'reality', 'immediacy', 'contagion', 'phenomenon', 'trigger', 'avalanche', 'questions', 'often', 'students', 'would', 'suddenly', 'remember', 'urgent', 'appointment', 'side', 'campus', 'His', 'lectures', 'reputation', 'mesmerizing', 'least', 'somniferous', 'It', 'rumored', 'managed', 'render', 'entire', 'classroom', 'unconscious', 'almost', 'certainly', 'exaggeration', 'At', 'rate', 'students', 'displayed', 'remarkable', 'ingenuity', 'devising', 'new', 'ways', 'conceal', 'stifle', 'swallow', 'yawns', 'They', 'developed', 'elaborate', 'alarm', 'systems', 'keep', 'awake', 'exams', 'called', 'upon', 'class', 'Meanwhile', 'students', 'suffered', 'insomnia', 'would', 'frequently', 'audit', 'classes', 'search', 'cure', 'condition', 'On', 'one', 'recent', 'evening', 'professor', 'sat', 'bed', 'reviewing', 'life', 'He', 'recalled', 'satisfaction', 'breakthroughs', 'areas', 'fetal', 'yawn', 'research', 'temporary', 'yawnrelated', 'hearing', 'loss', 'hysterical', 'paroxysmal', 'yawning', 'He', 'fondly', 'remembered', 'mostly', 'seated', 'ovation', 'received', 'still', 'awake', 'finished', 'presenting', 'groundbreaking', 'paper', 'role', 'yawning', 'mate', 'selection', 'While', 'one', 'nontechnical', 'book', 'The', 'Joy', 'Yawning', 'monograph', 'Yawn', 'Proudly', 'never', 'quite', 'reached', 'broader', 'audiences', 'intended', 'nonetheless', 'proud', 'efforts', 'popularize', 'subject', 'He', 'done', 'one', 'man', 'could', 'Not', 'bad', 'life', 'reflected', 'stretching', 'bed', 'closing', 'eyes', 'Soon', 'perhaps', 'dean', 'mayor', 'President', 'would', 'awaken', 'asking', 'help', 'something', 'kidnapping', 'terrorist', 'plot', 'expertise', 'desperately', 'needed', 'megaphone', 'cell', 'phone', 'placed', 'hand', 'dulcet', 'tones', 'calming', 'relaxing', 'defusing', 'situation', 'everyone', 'drifts', 'sleep', 'soft', 'warm', 'comfortable', 'sleep', 'problems', 'cant', 'wait', 'another', 'day', 'He', 'would', 'sleep', 'wake', 'tomorrow', 'thanks', 'grateful', 'nation', 'httpswwwmuseumofconceptualartcomstoriesboringbedtimestoriesdryawnhtml']\n"
     ]
    }
   ],
   "source": [
    "byWord = [] \n",
    "for this_sent in sent_tokenize_list:\n",
    "    word_tokens = word_tokenize(this_sent) \n",
    "    for w in word_tokens: \n",
    "        if w not in en_stops: \n",
    "            byWord.append(w) \n",
    "print(byWord)"
   ]
  },
  {
   "cell_type": "code",
   "execution_count": 11,
   "metadata": {},
   "outputs": [],
   "source": [
    "del byWord[-1:]"
   ]
  },
  {
   "cell_type": "code",
   "execution_count": 12,
   "metadata": {},
   "outputs": [],
   "source": [
    "outputtxt='\"'+txtfile+'\":'+ str(byWord)"
   ]
  },
  {
   "cell_type": "code",
   "execution_count": 13,
   "metadata": {},
   "outputs": [
    {
     "name": "stdout",
     "output_type": "stream",
     "text": [
      "\"week_8_document2.txt\":['Dr', 'Yawn', 'Earl', 'Vickers', 'Boring', 'Bedtime', 'Stories', 'An', 'Anthology', 'Insomniacs', 'It', 'started', 'harmlessly', 'enough', 'highschool', 'science', 'fair', 'project', 'Why', 'Are', 'Yawns', 'Contagious', 'But', 'one', 'thing', 'led', 'another', 'worlds', 'foremost', 'expert', 'subject', 'one', 'cared', 'topic', 'equally', 'suicidal', 'career', 'conferences', 'cocktail', 'parties', 'For', 'reasons', 'fully', 'understand', 'discussion', 'yawning', 'considered', 'almost', 'rude', 'andor', 'boring', 'act', 'The', 'mere', 'mention', 'research', 'would', 'inevitably', 'bring', 'minor', 'epidemic', 'uncontrollable', 'yawns', 'whether', 'behind', 'back', 'disguised', 'hand', 'right', 'face', 'In', 'way', 'ruined', 'countless', 'conventions', 'meetings', 'concerts', 'bachelor', 'parties', 'wedding', 'receptions', 'number', 'invitations', 'social', 'professional', 'dwindled', 'nothing', 'This', 'doubly', 'unfortunate', 'lasted', 'social', 'encounters', 'served', 'laboratories', 'additional', 'field', 'research', 'At', 'conclusion', 'illfated', 'encounter', 'would', 'quietly', 'retire', 'corner', 'room', 'take', 'meticulous', 'notes', 'Sometimes', 'would', 'surreptitiously', 'time', 'discussions', 'stopwatch', 'carefully', 'noting', 'length', 'initial', 'gestation', 'period', 'predelay', 'duration', 'long', 'inspiratory', 'phase', 'precise', 'moment', 'acme', 'orgasmic', 'peak', 'yawn', 'short', 'expiration', 'period', 'contagion', 'interval', 'rate', 'new', 'bystanders', 'afflicted', 'He', 'would', 'also', 'gather', 'much', 'data', 'possible', 'regarding', 'people', 'involved', 'effort', 'derive', 'correlations', 'personality', 'type', 'susceptibility', 'yawn', 'contagion', 'Realizing', 'people', 'share', 'fascination', 'learning', 'yawnings', 'paralinguistic', 'value', 'role', 'complex', 'arousal', 'defense', 'reflex', 'origin', 'reticular', 'brainstem', 'theories', 'relation', 'borderline', 'hypoxia', 'tried', 'spice', 'discussions', 'famous', 'quotations', 'Aristotles', 'As', 'donkey', 'urinates', 'sees', 'hears', 'another', 'donkey', 'also', 'man', 'yawns', 'seeing', 'someone', 'else', 'He', 'even', 'used', 'joke', 'pharmacological', 'connection', 'yawning', 'spontaneous', 'erection', 'Am', 'I', 'boring', 'death', 'happy', 'see', 'But', 'without', 'fail', 'recipient', 'conversations', 'would', 'ask', 'excused', 'covering', 'mouth', 'hand', 'make', 'beeline', 'anywhere', 'else', 'Sadly', 'work', 'suffered', 'recent', 'years', 'He', 'seemed', 'unable', 'concentrate', 'Often', 'would', 'fall', 'asleep', 'middle', 'research', 'writing', 'paper', 'Even', 'managed', 'complete', 'article', 'rarely', 'either', 'accepted', 'rejected', 'simply', 'ignored', 'manuscript', 'become', 'unreadable', 'In', 'academic', 'world', 'publish', 'perish', 'perish', 'path', 'Students', 'rarely', 'came', 'office', 'He', 'missed', 'seeing', 'bright', 'inquisitive', 'eyes', 'lighting', 'briefly', 'eventually', 'disappearing', 'behind', 'heavy', 'lids', 'flame', 'curiosity', 'gradually', 'flickering', 'wind', 'physiologic', 'research', 'finally', 'extinguished', 'discussions', 'serotoninergic', 'inhibition', 'neuromuscular', 'spindles', 'adrenocorticotropic', 'hormonerelated', 'peptides', 'hypothalamic', 'dopaminergic', 'mechanisms', 'He', 'particularly', 'enjoyed', 'showing', 'students', 'nearly', 'fascinating', 'portrait', 'hung', 'wall', 'This', 'painting', 'believed', 'priceless', 'apparently', 'dated', 'time', 'Renaissance', 'managed', 'obtain', 'ignorant', 'owner', 'hundred', 'dollars', 'He', 'suspected', 'portrait', 'one', 'spoken', 'Leonardo', 'da', 'Vinci', 'An', 'artist', 'painted', 'picture', 'made', 'everybody', 'saw', 'yawn', 'yawn', 'repeatedly', 'long', 'kept', 'eyes', 'picture', 'represented', 'man', 'also', 'yawning', 'The', 'professor', 'hoped', 'painting', 'would', 'impress', 'upon', 'students', 'reality', 'immediacy', 'contagion', 'phenomenon', 'trigger', 'avalanche', 'questions', 'often', 'students', 'would', 'suddenly', 'remember', 'urgent', 'appointment', 'side', 'campus', 'His', 'lectures', 'reputation', 'mesmerizing', 'least', 'somniferous', 'It', 'rumored', 'managed', 'render', 'entire', 'classroom', 'unconscious', 'almost', 'certainly', 'exaggeration', 'At', 'rate', 'students', 'displayed', 'remarkable', 'ingenuity', 'devising', 'new', 'ways', 'conceal', 'stifle', 'swallow', 'yawns', 'They', 'developed', 'elaborate', 'alarm', 'systems', 'keep', 'awake', 'exams', 'called', 'upon', 'class', 'Meanwhile', 'students', 'suffered', 'insomnia', 'would', 'frequently', 'audit', 'classes', 'search', 'cure', 'condition', 'On', 'one', 'recent', 'evening', 'professor', 'sat', 'bed', 'reviewing', 'life', 'He', 'recalled', 'satisfaction', 'breakthroughs', 'areas', 'fetal', 'yawn', 'research', 'temporary', 'yawnrelated', 'hearing', 'loss', 'hysterical', 'paroxysmal', 'yawning', 'He', 'fondly', 'remembered', 'mostly', 'seated', 'ovation', 'received', 'still', 'awake', 'finished', 'presenting', 'groundbreaking', 'paper', 'role', 'yawning', 'mate', 'selection', 'While', 'one', 'nontechnical', 'book', 'The', 'Joy', 'Yawning', 'monograph', 'Yawn', 'Proudly', 'never', 'quite', 'reached', 'broader', 'audiences', 'intended', 'nonetheless', 'proud', 'efforts', 'popularize', 'subject', 'He', 'done', 'one', 'man', 'could', 'Not', 'bad', 'life', 'reflected', 'stretching', 'bed', 'closing', 'eyes', 'Soon', 'perhaps', 'dean', 'mayor', 'President', 'would', 'awaken', 'asking', 'help', 'something', 'kidnapping', 'terrorist', 'plot', 'expertise', 'desperately', 'needed', 'megaphone', 'cell', 'phone', 'placed', 'hand', 'dulcet', 'tones', 'calming', 'relaxing', 'defusing', 'situation', 'everyone', 'drifts', 'sleep', 'soft', 'warm', 'comfortable', 'sleep', 'problems', 'cant', 'wait', 'another', 'day', 'He', 'would', 'sleep', 'wake', 'tomorrow', 'thanks', 'grateful', 'nation']\n"
     ]
    }
   ],
   "source": [
    "print(outputtxt)"
   ]
  },
  {
   "cell_type": "code",
   "execution_count": 14,
   "metadata": {},
   "outputs": [],
   "source": [
    "import docx\n",
    "docxfile=\"week_8_document1.docx\"\n",
    "doc = docx.Document(docxfile)"
   ]
  },
  {
   "cell_type": "code",
   "execution_count": 15,
   "metadata": {},
   "outputs": [
    {
     "data": {
      "text/plain": [
       "9"
      ]
     },
     "execution_count": 15,
     "metadata": {},
     "output_type": "execute_result"
    }
   ],
   "source": [
    "all_paras = doc.paragraphs\n",
    "len(all_paras)"
   ]
  },
  {
   "cell_type": "code",
   "execution_count": 16,
   "metadata": {},
   "outputs": [
    {
     "name": "stdout",
     "output_type": "stream",
     "text": [
      "\n",
      "\n",
      "Multilingual corpora that have been specially formatted for side-by-side comparison are called aligned parallel corpora. There are two main types of parallel corpora which contain texts in two languages. In a translation corpus, the texts in one language are translations of texts in the other language. In a comparable corpus, the texts are of the same kind and cover the same content, but they are not translations of each other.[1] To exploit a parallel text, some kind of text alignment identifying equivalent text segments (phrases or sentences) is a prerequisite for analysis. Machine translation algorithms for translating between two languages are often trained using parallel fragments comprising a first language corpus and a second language corpus which is an element-for-element translation of the first language corpus.[2]\n",
      "\n",
      "In order to make the corpora more useful for doing linguistic research, they are often subjected to a process known as annotation. An example of annotating a corpus is part-of-speech tagging, or POS-tagging, in which information about each word's part of speech (verb, noun, adjective, etc.) is added to the corpus in the form of tags. Another example is indicating the lemma (base) form of each word. When the language of the corpus is not a working language of the researchers who use it, interlinear glossing is used to make the annotation bilingual.\n",
      "\n",
      "Some corpora have further structured levels of analysis applied. In particular, a number of smaller corpora may be fully parsed. Such corpora are usually called Treebanks or Parsed Corpora. The difficulty of ensuring that the entire corpus is completely and consistently annotated means that these corpora are usually smaller, containing around one to three million words. Other levels of linguistic structured analysis are possible, including annotations for morphology, semantics and pragmatics.\n",
      "\n",
      "Corpora are the main knowledge base in corpus linguistics. The analysis and processing of various types of corpora are also the subject of much work in computational linguistics, speech recognition and machine translation, where they are often used to create hidden Markov models for part of speech tagging and other purposes. Corpora and frequency lists derived from them are useful for language teaching. Corpora can be considered as a type of foreign language writing aid as the contextualised grammatical knowledge acquired by non-native language users through exposure to authentic texts in corpora allows learners to grasp the manner of sentence formation in the target language, enabling effective writing.\n"
     ]
    }
   ],
   "source": [
    "for para in all_paras:\n",
    "    print(para.text)"
   ]
  },
  {
   "cell_type": "code",
   "execution_count": 17,
   "metadata": {},
   "outputs": [
    {
     "name": "stdout",
     "output_type": "stream",
     "text": [
      "   Multilingual corpora that have been specially formatted for side-by-side comparison are called aligned parallel corpora. There are two main types of parallel corpora which contain texts in two languages. In a translation corpus, the texts in one language are translations of texts in the other language. In a comparable corpus, the texts are of the same kind and cover the same content, but they are not translations of each other.[1] To exploit a parallel text, some kind of text alignment identifying equivalent text segments (phrases or sentences) is a prerequisite for analysis. Machine translation algorithms for translating between two languages are often trained using parallel fragments comprising a first language corpus and a second language corpus which is an element-for-element translation of the first language corpus.[2]  In order to make the corpora more useful for doing linguistic research, they are often subjected to a process known as annotation. An example of annotating a corpus is part-of-speech tagging, or POS-tagging, in which information about each word's part of speech (verb, noun, adjective, etc.) is added to the corpus in the form of tags. Another example is indicating the lemma (base) form of each word. When the language of the corpus is not a working language of the researchers who use it, interlinear glossing is used to make the annotation bilingual.  Some corpora have further structured levels of analysis applied. In particular, a number of smaller corpora may be fully parsed. Such corpora are usually called Treebanks or Parsed Corpora. The difficulty of ensuring that the entire corpus is completely and consistently annotated means that these corpora are usually smaller, containing around one to three million words. Other levels of linguistic structured analysis are possible, including annotations for morphology, semantics and pragmatics.  Corpora are the main knowledge base in corpus linguistics. The analysis and processing of various types of corpora are also the subject of much work in computational linguistics, speech recognition and machine translation, where they are often used to create hidden Markov models for part of speech tagging and other purposes. Corpora and frequency lists derived from them are useful for language teaching. Corpora can be considered as a type of foreign language writing aid as the contextualised grammatical knowledge acquired by non-native language users through exposure to authentic texts in corpora allows learners to grasp the manner of sentence formation in the target language, enabling effective writing.\n"
     ]
    }
   ],
   "source": [
    "docstring=\"\"\n",
    "for para in all_paras:\n",
    "    docstring=docstring+\" \"+para.text\n",
    "print(docstring)"
   ]
  },
  {
   "cell_type": "code",
   "execution_count": 18,
   "metadata": {},
   "outputs": [
    {
     "name": "stdout",
     "output_type": "stream",
     "text": [
      "   Multilingual corpora that have been specially formatted for sidebyside comparison are called aligned parallel corpora There are two main types of parallel corpora which contain texts in two languages In a translation corpus the texts in one language are translations of texts in the other language In a comparable corpus the texts are of the same kind and cover the same content but they are not translations of each other1 To exploit a parallel text some kind of text alignment identifying equivalent text segments phrases or sentences is a prerequisite for analysis Machine translation algorithms for translating between two languages are often trained using parallel fragments comprising a first language corpus and a second language corpus which is an elementforelement translation of the first language corpus2  In order to make the corpora more useful for doing linguistic research they are often subjected to a process known as annotation An example of annotating a corpus is partofspeech tagging or POStagging in which information about each words part of speech verb noun adjective etc is added to the corpus in the form of tags Another example is indicating the lemma base form of each word When the language of the corpus is not a working language of the researchers who use it interlinear glossing is used to make the annotation bilingual  Some corpora have further structured levels of analysis applied In particular a number of smaller corpora may be fully parsed Such corpora are usually called Treebanks or Parsed Corpora The difficulty of ensuring that the entire corpus is completely and consistently annotated means that these corpora are usually smaller containing around one to three million words Other levels of linguistic structured analysis are possible including annotations for morphology semantics and pragmatics  Corpora are the main knowledge base in corpus linguistics The analysis and processing of various types of corpora are also the subject of much work in computational linguistics speech recognition and machine translation where they are often used to create hidden Markov models for part of speech tagging and other purposes Corpora and frequency lists derived from them are useful for language teaching Corpora can be considered as a type of foreign language writing aid as the contextualised grammatical knowledge acquired by nonnative language users through exposure to authentic texts in corpora allows learners to grasp the manner of sentence formation in the target language enabling effective writing\n"
     ]
    }
   ],
   "source": [
    "temp2=docstring.translate(str.maketrans('', '', string.punctuation))\n",
    "print(temp2)"
   ]
  },
  {
   "cell_type": "code",
   "execution_count": 19,
   "metadata": {},
   "outputs": [
    {
     "data": {
      "text/plain": [
       "['   Multilingual corpora that have been specially formatted for sidebyside comparison are called aligned parallel corpora There are two main types of parallel corpora which contain texts in two languages In a translation corpus the texts in one language are translations of texts in the other language In a comparable corpus the texts are of the same kind and cover the same content but they are not translations of each other1 To exploit a parallel text some kind of text alignment identifying equivalent text segments phrases or sentences is a prerequisite for analysis Machine translation algorithms for translating between two languages are often trained using parallel fragments comprising a first language corpus and a second language corpus which is an elementforelement translation of the first language corpus2  In order to make the corpora more useful for doing linguistic research they are often subjected to a process known as annotation An example of annotating a corpus is partofspeech tagging or POStagging in which information about each words part of speech verb noun adjective etc is added to the corpus in the form of tags Another example is indicating the lemma base form of each word When the language of the corpus is not a working language of the researchers who use it interlinear glossing is used to make the annotation bilingual  Some corpora have further structured levels of analysis applied In particular a number of smaller corpora may be fully parsed Such corpora are usually called Treebanks or Parsed Corpora The difficulty of ensuring that the entire corpus is completely and consistently annotated means that these corpora are usually smaller containing around one to three million words Other levels of linguistic structured analysis are possible including annotations for morphology semantics and pragmatics  Corpora are the main knowledge base in corpus linguistics The analysis and processing of various types of corpora are also the subject of much work in computational linguistics speech recognition and machine translation where they are often used to create hidden Markov models for part of speech tagging and other purposes Corpora and frequency lists derived from them are useful for language teaching Corpora can be considered as a type of foreign language writing aid as the contextualised grammatical knowledge acquired by nonnative language users through exposure to authentic texts in corpora allows learners to grasp the manner of sentence formation in the target language enabling effective writing']"
      ]
     },
     "execution_count": 19,
     "metadata": {},
     "output_type": "execute_result"
    }
   ],
   "source": [
    "sent_tokenize_list = sent_tokenize(temp2)\n",
    "sent_tokenize_list"
   ]
  },
  {
   "cell_type": "code",
   "execution_count": 20,
   "metadata": {},
   "outputs": [
    {
     "name": "stdout",
     "output_type": "stream",
     "text": [
      "['Multilingual', 'corpora', 'that', 'have', 'been', 'specially', 'formatted', 'for', 'sidebyside', 'comparison', 'are', 'called', 'aligned', 'parallel', 'corpora', 'There', 'are', 'two', 'main', 'types', 'of', 'parallel', 'corpora', 'which', 'contain', 'texts', 'in', 'two', 'languages', 'In', 'a', 'translation', 'corpus', 'the', 'texts', 'in', 'one', 'language', 'are', 'translations', 'of', 'texts', 'in', 'the', 'other', 'language', 'In', 'a', 'comparable', 'corpus', 'the', 'texts', 'are', 'of', 'the', 'same', 'kind', 'and', 'cover', 'the', 'same', 'content', 'but', 'they', 'are', 'not', 'translations', 'of', 'each', 'other1', 'To', 'exploit', 'a', 'parallel', 'text', 'some', 'kind', 'of', 'text', 'alignment', 'identifying', 'equivalent', 'text', 'segments', 'phrases', 'or', 'sentences', 'is', 'a', 'prerequisite', 'for', 'analysis', 'Machine', 'translation', 'algorithms', 'for', 'translating', 'between', 'two', 'languages', 'are', 'often', 'trained', 'using', 'parallel', 'fragments', 'comprising', 'a', 'first', 'language', 'corpus', 'and', 'a', 'second', 'language', 'corpus', 'which', 'is', 'an', 'elementforelement', 'translation', 'of', 'the', 'first', 'language', 'corpus2', 'In', 'order', 'to', 'make', 'the', 'corpora', 'more', 'useful', 'for', 'doing', 'linguistic', 'research', 'they', 'are', 'often', 'subjected', 'to', 'a', 'process', 'known', 'as', 'annotation', 'An', 'example', 'of', 'annotating', 'a', 'corpus', 'is', 'partofspeech', 'tagging', 'or', 'POStagging', 'in', 'which', 'information', 'about', 'each', 'words', 'part', 'of', 'speech', 'verb', 'noun', 'adjective', 'etc', 'is', 'added', 'to', 'the', 'corpus', 'in', 'the', 'form', 'of', 'tags', 'Another', 'example', 'is', 'indicating', 'the', 'lemma', 'base', 'form', 'of', 'each', 'word', 'When', 'the', 'language', 'of', 'the', 'corpus', 'is', 'not', 'a', 'working', 'language', 'of', 'the', 'researchers', 'who', 'use', 'it', 'interlinear', 'glossing', 'is', 'used', 'to', 'make', 'the', 'annotation', 'bilingual', 'Some', 'corpora', 'have', 'further', 'structured', 'levels', 'of', 'analysis', 'applied', 'In', 'particular', 'a', 'number', 'of', 'smaller', 'corpora', 'may', 'be', 'fully', 'parsed', 'Such', 'corpora', 'are', 'usually', 'called', 'Treebanks', 'or', 'Parsed', 'Corpora', 'The', 'difficulty', 'of', 'ensuring', 'that', 'the', 'entire', 'corpus', 'is', 'completely', 'and', 'consistently', 'annotated', 'means', 'that', 'these', 'corpora', 'are', 'usually', 'smaller', 'containing', 'around', 'one', 'to', 'three', 'million', 'words', 'Other', 'levels', 'of', 'linguistic', 'structured', 'analysis', 'are', 'possible', 'including', 'annotations', 'for', 'morphology', 'semantics', 'and', 'pragmatics', 'Corpora', 'are', 'the', 'main', 'knowledge', 'base', 'in', 'corpus', 'linguistics', 'The', 'analysis', 'and', 'processing', 'of', 'various', 'types', 'of', 'corpora', 'are', 'also', 'the', 'subject', 'of', 'much', 'work', 'in', 'computational', 'linguistics', 'speech', 'recognition', 'and', 'machine', 'translation', 'where', 'they', 'are', 'often', 'used', 'to', 'create', 'hidden', 'Markov', 'models', 'for', 'part', 'of', 'speech', 'tagging', 'and', 'other', 'purposes', 'Corpora', 'and', 'frequency', 'lists', 'derived', 'from', 'them', 'are', 'useful', 'for', 'language', 'teaching', 'Corpora', 'can', 'be', 'considered', 'as', 'a', 'type', 'of', 'foreign', 'language', 'writing', 'aid', 'as', 'the', 'contextualised', 'grammatical', 'knowledge', 'acquired', 'by', 'nonnative', 'language', 'users', 'through', 'exposure', 'to', 'authentic', 'texts', 'in', 'corpora', 'allows', 'learners', 'to', 'grasp', 'the', 'manner', 'of', 'sentence', 'formation', 'in', 'the', 'target', 'language', 'enabling', 'effective', 'writing']\n"
     ]
    }
   ],
   "source": [
    "for this_sent in sent_tokenize_list:\n",
    "    word_tokens = word_tokenize(this_sent) \n",
    "    print(word_tokens)"
   ]
  },
  {
   "cell_type": "code",
   "execution_count": 21,
   "metadata": {},
   "outputs": [
    {
     "name": "stdout",
     "output_type": "stream",
     "text": [
      "['Multilingual', 'corpora', 'specially', 'formatted', 'sidebyside', 'comparison', 'called', 'aligned', 'parallel', 'corpora', 'There', 'two', 'main', 'types', 'parallel', 'corpora', 'contain', 'texts', 'two', 'languages', 'In', 'translation', 'corpus', 'texts', 'one', 'language', 'translations', 'texts', 'language', 'In', 'comparable', 'corpus', 'texts', 'kind', 'cover', 'content', 'translations', 'other1', 'To', 'exploit', 'parallel', 'text', 'kind', 'text', 'alignment', 'identifying', 'equivalent', 'text', 'segments', 'phrases', 'sentences', 'prerequisite', 'analysis', 'Machine', 'translation', 'algorithms', 'translating', 'two', 'languages', 'often', 'trained', 'using', 'parallel', 'fragments', 'comprising', 'first', 'language', 'corpus', 'second', 'language', 'corpus', 'elementforelement', 'translation', 'first', 'language', 'corpus2', 'In', 'order', 'make', 'corpora', 'useful', 'linguistic', 'research', 'often', 'subjected', 'process', 'known', 'annotation', 'An', 'example', 'annotating', 'corpus', 'partofspeech', 'tagging', 'POStagging', 'information', 'words', 'part', 'speech', 'verb', 'noun', 'adjective', 'etc', 'added', 'corpus', 'form', 'tags', 'Another', 'example', 'indicating', 'lemma', 'base', 'form', 'word', 'When', 'language', 'corpus', 'working', 'language', 'researchers', 'use', 'interlinear', 'glossing', 'used', 'make', 'annotation', 'bilingual', 'Some', 'corpora', 'structured', 'levels', 'analysis', 'applied', 'In', 'particular', 'number', 'smaller', 'corpora', 'may', 'fully', 'parsed', 'Such', 'corpora', 'usually', 'called', 'Treebanks', 'Parsed', 'Corpora', 'The', 'difficulty', 'ensuring', 'entire', 'corpus', 'completely', 'consistently', 'annotated', 'means', 'corpora', 'usually', 'smaller', 'containing', 'around', 'one', 'three', 'million', 'words', 'Other', 'levels', 'linguistic', 'structured', 'analysis', 'possible', 'including', 'annotations', 'morphology', 'semantics', 'pragmatics', 'Corpora', 'main', 'knowledge', 'base', 'corpus', 'linguistics', 'The', 'analysis', 'processing', 'various', 'types', 'corpora', 'also', 'subject', 'much', 'work', 'computational', 'linguistics', 'speech', 'recognition', 'machine', 'translation', 'often', 'used', 'create', 'hidden', 'Markov', 'models', 'part', 'speech', 'tagging', 'purposes', 'Corpora', 'frequency', 'lists', 'derived', 'useful', 'language', 'teaching', 'Corpora', 'considered', 'type', 'foreign', 'language', 'writing', 'aid', 'contextualised', 'grammatical', 'knowledge', 'acquired', 'nonnative', 'language', 'users', 'exposure', 'authentic', 'texts', 'corpora', 'allows', 'learners', 'grasp', 'manner', 'sentence', 'formation', 'target', 'language', 'enabling', 'effective', 'writing']\n"
     ]
    }
   ],
   "source": [
    "byWord = [] \n",
    "for this_sent in sent_tokenize_list:\n",
    "    word_tokens = word_tokenize(this_sent) \n",
    "    for w in word_tokens: \n",
    "        if w not in en_stops: \n",
    "            byWord.append(w) \n",
    "print(byWord)"
   ]
  },
  {
   "cell_type": "code",
   "execution_count": 22,
   "metadata": {},
   "outputs": [],
   "source": [
    "outputdocx='\"'+docxfile+'\":'+ str(byWord)"
   ]
  },
  {
   "cell_type": "code",
   "execution_count": 23,
   "metadata": {},
   "outputs": [
    {
     "name": "stdout",
     "output_type": "stream",
     "text": [
      "\"week_8_document1.docx\":['Multilingual', 'corpora', 'specially', 'formatted', 'sidebyside', 'comparison', 'called', 'aligned', 'parallel', 'corpora', 'There', 'two', 'main', 'types', 'parallel', 'corpora', 'contain', 'texts', 'two', 'languages', 'In', 'translation', 'corpus', 'texts', 'one', 'language', 'translations', 'texts', 'language', 'In', 'comparable', 'corpus', 'texts', 'kind', 'cover', 'content', 'translations', 'other1', 'To', 'exploit', 'parallel', 'text', 'kind', 'text', 'alignment', 'identifying', 'equivalent', 'text', 'segments', 'phrases', 'sentences', 'prerequisite', 'analysis', 'Machine', 'translation', 'algorithms', 'translating', 'two', 'languages', 'often', 'trained', 'using', 'parallel', 'fragments', 'comprising', 'first', 'language', 'corpus', 'second', 'language', 'corpus', 'elementforelement', 'translation', 'first', 'language', 'corpus2', 'In', 'order', 'make', 'corpora', 'useful', 'linguistic', 'research', 'often', 'subjected', 'process', 'known', 'annotation', 'An', 'example', 'annotating', 'corpus', 'partofspeech', 'tagging', 'POStagging', 'information', 'words', 'part', 'speech', 'verb', 'noun', 'adjective', 'etc', 'added', 'corpus', 'form', 'tags', 'Another', 'example', 'indicating', 'lemma', 'base', 'form', 'word', 'When', 'language', 'corpus', 'working', 'language', 'researchers', 'use', 'interlinear', 'glossing', 'used', 'make', 'annotation', 'bilingual', 'Some', 'corpora', 'structured', 'levels', 'analysis', 'applied', 'In', 'particular', 'number', 'smaller', 'corpora', 'may', 'fully', 'parsed', 'Such', 'corpora', 'usually', 'called', 'Treebanks', 'Parsed', 'Corpora', 'The', 'difficulty', 'ensuring', 'entire', 'corpus', 'completely', 'consistently', 'annotated', 'means', 'corpora', 'usually', 'smaller', 'containing', 'around', 'one', 'three', 'million', 'words', 'Other', 'levels', 'linguistic', 'structured', 'analysis', 'possible', 'including', 'annotations', 'morphology', 'semantics', 'pragmatics', 'Corpora', 'main', 'knowledge', 'base', 'corpus', 'linguistics', 'The', 'analysis', 'processing', 'various', 'types', 'corpora', 'also', 'subject', 'much', 'work', 'computational', 'linguistics', 'speech', 'recognition', 'machine', 'translation', 'often', 'used', 'create', 'hidden', 'Markov', 'models', 'part', 'speech', 'tagging', 'purposes', 'Corpora', 'frequency', 'lists', 'derived', 'useful', 'language', 'teaching', 'Corpora', 'considered', 'type', 'foreign', 'language', 'writing', 'aid', 'contextualised', 'grammatical', 'knowledge', 'acquired', 'nonnative', 'language', 'users', 'exposure', 'authentic', 'texts', 'corpora', 'allows', 'learners', 'grasp', 'manner', 'sentence', 'formation', 'target', 'language', 'enabling', 'effective', 'writing']\n"
     ]
    }
   ],
   "source": [
    "print(outputdocx)"
   ]
  },
  {
   "cell_type": "code",
   "execution_count": 24,
   "metadata": {},
   "outputs": [],
   "source": [
    "output=outputdocx+\"\\n\"+outputtxt"
   ]
  },
  {
   "cell_type": "code",
   "execution_count": 25,
   "metadata": {},
   "outputs": [],
   "source": [
    "file = open(\"Assignment7HRO.dat\",\"w\")\n",
    "file.write(output)\n",
    "file.close()"
   ]
  },
  {
   "cell_type": "code",
   "execution_count": null,
   "metadata": {},
   "outputs": [],
   "source": []
  }
 ],
 "metadata": {
  "kernelspec": {
   "display_name": "Python 3",
   "language": "python",
   "name": "python3"
  },
  "language_info": {
   "codemirror_mode": {
    "name": "ipython",
    "version": 3
   },
   "file_extension": ".py",
   "mimetype": "text/x-python",
   "name": "python",
   "nbconvert_exporter": "python",
   "pygments_lexer": "ipython3",
   "version": "3.7.4"
  }
 },
 "nbformat": 4,
 "nbformat_minor": 2
}
