{
 "cells": [
  {
   "cell_type": "markdown",
   "metadata": {},
   "source": [
    "# Assignment 1"
   ]
  },
  {
   "cell_type": "code",
   "execution_count": 1,
   "metadata": {},
   "outputs": [
    {
     "data": {
      "text/html": [
       "<div>\n",
       "<style scoped>\n",
       "    .dataframe tbody tr th:only-of-type {\n",
       "        vertical-align: middle;\n",
       "    }\n",
       "\n",
       "    .dataframe tbody tr th {\n",
       "        vertical-align: top;\n",
       "    }\n",
       "\n",
       "    .dataframe thead th {\n",
       "        text-align: right;\n",
       "    }\n",
       "</style>\n",
       "<table border=\"1\" class=\"dataframe\">\n",
       "  <thead>\n",
       "    <tr style=\"text-align: right;\">\n",
       "      <th></th>\n",
       "      <th>HDR</th>\n",
       "      <th>ROLLING SYSTEM DEMAND</th>\n",
       "    </tr>\n",
       "  </thead>\n",
       "  <tbody>\n",
       "    <tr>\n",
       "      <td>VD</td>\n",
       "      <td>20201012234000</td>\n",
       "      <td>23292.0</td>\n",
       "    </tr>\n",
       "    <tr>\n",
       "      <td>VD</td>\n",
       "      <td>20201012234500</td>\n",
       "      <td>23259.0</td>\n",
       "    </tr>\n",
       "    <tr>\n",
       "      <td>VD</td>\n",
       "      <td>20201012235000</td>\n",
       "      <td>23329.0</td>\n",
       "    </tr>\n",
       "    <tr>\n",
       "      <td>VD</td>\n",
       "      <td>20201012235500</td>\n",
       "      <td>23348.0</td>\n",
       "    </tr>\n",
       "    <tr>\n",
       "      <td>FTR</td>\n",
       "      <td>3456</td>\n",
       "      <td>NaN</td>\n",
       "    </tr>\n",
       "  </tbody>\n",
       "</table>\n",
       "</div>"
      ],
      "text/plain": [
       "                HDR  ROLLING SYSTEM DEMAND\n",
       "VD   20201012234000                23292.0\n",
       "VD   20201012234500                23259.0\n",
       "VD   20201012235000                23329.0\n",
       "VD   20201012235500                23348.0\n",
       "FTR            3456                    NaN"
      ]
     },
     "execution_count": 1,
     "metadata": {},
     "output_type": "execute_result"
    }
   ],
   "source": [
    "#Assignment 1\n",
    "#from https://www.bmreports.com/bmrs/?q=demand/rollingsystemdemand (10/1/2020-10/12/1010)\n",
    "#combination of 10/1/2020-10/6/2020 and 10/7/2020-10/12/2020\n",
    "\n",
    "import pandas as pd\n",
    "df = pd.read_csv('RollingSystemDemand.csv')\n",
    "df.tail()"
   ]
  },
  {
   "cell_type": "code",
   "execution_count": 2,
   "metadata": {},
   "outputs": [
    {
     "name": "stdout",
     "output_type": "stream",
     "text": [
      "20201012235500\n"
     ]
    }
   ],
   "source": [
    "print(df['HDR'][3455])"
   ]
  },
  {
   "cell_type": "code",
   "execution_count": 3,
   "metadata": {},
   "outputs": [],
   "source": [
    "df['HDR'] = df['HDR'].astype(str)"
   ]
  },
  {
   "cell_type": "code",
   "execution_count": 4,
   "metadata": {},
   "outputs": [
    {
     "name": "stdout",
     "output_type": "stream",
     "text": [
      "23\n"
     ]
    }
   ],
   "source": [
    "print(df['HDR'][3455][8:10])"
   ]
  },
  {
   "cell_type": "code",
   "execution_count": 5,
   "metadata": {},
   "outputs": [
    {
     "name": "stdout",
     "output_type": "stream",
     "text": [
      "1223\n"
     ]
    }
   ],
   "source": [
    "print(df['HDR'][3455][6:10])"
   ]
  },
  {
   "cell_type": "code",
   "execution_count": 6,
   "metadata": {},
   "outputs": [],
   "source": [
    "hour=[]\n",
    "for k in df['HDR']:\n",
    "    hour.append(k[8:10])"
   ]
  },
  {
   "cell_type": "code",
   "execution_count": 7,
   "metadata": {},
   "outputs": [],
   "source": [
    "df['hour']=hour"
   ]
  },
  {
   "cell_type": "code",
   "execution_count": 8,
   "metadata": {},
   "outputs": [],
   "source": [
    "dayhour=[]\n",
    "for k in df['HDR']:\n",
    "    dayhour.append(k[6:10])"
   ]
  },
  {
   "cell_type": "code",
   "execution_count": 9,
   "metadata": {},
   "outputs": [],
   "source": [
    "df['dayhour']=dayhour"
   ]
  },
  {
   "cell_type": "code",
   "execution_count": 10,
   "metadata": {},
   "outputs": [],
   "source": [
    "import matplotlib.pyplot as plt\n",
    "import statistics"
   ]
  },
  {
   "cell_type": "code",
   "execution_count": 11,
   "metadata": {},
   "outputs": [],
   "source": [
    "def timeSplit(a,b):\n",
    "    n=[]\n",
    "    for i in range(0,24):\n",
    "        m=[]\n",
    "        t=0\n",
    "        for k in a:\n",
    "            if k!=\"\":\n",
    "                k=int(k)\n",
    "                if k==i:\n",
    "                    m.append(b[t])\n",
    "                t+=1\n",
    "        n.append(statistics.mean(m))\n",
    "    return n"
   ]
  },
  {
   "cell_type": "code",
   "execution_count": 12,
   "metadata": {},
   "outputs": [],
   "source": [
    "h=timeSplit(df['hour'],df['ROLLING SYSTEM DEMAND'])"
   ]
  },
  {
   "cell_type": "code",
   "execution_count": 13,
   "metadata": {},
   "outputs": [
    {
     "name": "stdout",
     "output_type": "stream",
     "text": [
      "[22433.465277777777, 22448.57638888889, 22007.430555555555, 21885.902777777777, 22347.659722222223, 25213.854166666668, 29366.458333333332, 31629.340277777777, 32309.416666666668, 32160.875, 31979.277777777777, 32150.902777777777, 31673.979166666668, 31375.23611111111, 31738.465277777777, 33601.0, 35826.01388888889, 37013.95138888889, 36728.604166666664, 34188.645833333336, 31193.20138888889, 27915.069444444445, 24480.597222222223, 22559.5625]\n"
     ]
    }
   ],
   "source": [
    "print(h)"
   ]
  },
  {
   "cell_type": "code",
   "execution_count": 14,
   "metadata": {},
   "outputs": [],
   "source": [
    "dfh = pd.DataFrame(h, columns =['Average Power Consumption per Hour']) "
   ]
  },
  {
   "cell_type": "code",
   "execution_count": 15,
   "metadata": {},
   "outputs": [
    {
     "data": {
      "text/html": [
       "<div>\n",
       "<style scoped>\n",
       "    .dataframe tbody tr th:only-of-type {\n",
       "        vertical-align: middle;\n",
       "    }\n",
       "\n",
       "    .dataframe tbody tr th {\n",
       "        vertical-align: top;\n",
       "    }\n",
       "\n",
       "    .dataframe thead th {\n",
       "        text-align: right;\n",
       "    }\n",
       "</style>\n",
       "<table border=\"1\" class=\"dataframe\">\n",
       "  <thead>\n",
       "    <tr style=\"text-align: right;\">\n",
       "      <th></th>\n",
       "      <th>Average Power Consumption per Hour</th>\n",
       "    </tr>\n",
       "  </thead>\n",
       "  <tbody>\n",
       "    <tr>\n",
       "      <td>0</td>\n",
       "      <td>22433.465278</td>\n",
       "    </tr>\n",
       "    <tr>\n",
       "      <td>1</td>\n",
       "      <td>22448.576389</td>\n",
       "    </tr>\n",
       "    <tr>\n",
       "      <td>2</td>\n",
       "      <td>22007.430556</td>\n",
       "    </tr>\n",
       "    <tr>\n",
       "      <td>3</td>\n",
       "      <td>21885.902778</td>\n",
       "    </tr>\n",
       "    <tr>\n",
       "      <td>4</td>\n",
       "      <td>22347.659722</td>\n",
       "    </tr>\n",
       "  </tbody>\n",
       "</table>\n",
       "</div>"
      ],
      "text/plain": [
       "   Average Power Consumption per Hour\n",
       "0                        22433.465278\n",
       "1                        22448.576389\n",
       "2                        22007.430556\n",
       "3                        21885.902778\n",
       "4                        22347.659722"
      ]
     },
     "execution_count": 15,
     "metadata": {},
     "output_type": "execute_result"
    }
   ],
   "source": [
    "dfh.head()"
   ]
  },
  {
   "cell_type": "code",
   "execution_count": 16,
   "metadata": {},
   "outputs": [
    {
     "data": {
      "image/png": "[encoded data removed]",
      "text/plain": [
       "<Figure size 432x288 with 1 Axes>"
      ]
     },
     "metadata": {
      "needs_background": "light"
     },
     "output_type": "display_data"
    }
   ],
   "source": [
    "dfh.plot.bar(y='Average Power Consumption per Hour',rot=0);"
   ]
  },
  {
   "cell_type": "code",
   "execution_count": 17,
   "metadata": {},
   "outputs": [
    {
     "name": "stdout",
     "output_type": "stream",
     "text": [
      "['0100' '0101' '0102' '0103' '0104' '0105' '0106' '0107' '0108' '0109'\n",
      " '0110' '0111' '0112' '0113' '0114' '0115' '0116' '0117' '0118' '0119'\n",
      " '0120' '0121' '0122' '0123' '0200' '0201' '0202' '0203' '0204' '0205'\n",
      " '0206' '0207' '0208' '0209' '0210' '0211' '0212' '0213' '0214' '0215'\n",
      " '0216' '0217' '0218' '0219' '0220' '0221' '0222' '0223' '0300' '0301'\n",
      " '0302' '0303' '0304' '0305' '0306' '0307' '0308' '0309' '0310' '0311'\n",
      " '0312' '0313' '0314' '0315' '0316' '0317' '0318' '0319' '0320' '0321'\n",
      " '0322' '0323' '0400' '0401' '0402' '0403' '0404' '0405' '0406' '0407'\n",
      " '0408' '0409' '0410' '0411' '0412' '0413' '0414' '0415' '0416' '0417'\n",
      " '0418' '0419' '0420' '0421' '0422' '0423' '0500' '0501' '0502' '0503'\n",
      " '0504' '0505' '0506' '0507' '0508' '0509' '0510' '0511' '0512' '0513'\n",
      " '0514' '0515' '0516' '0517' '0518' '0519' '0520' '0521' '0522' '0523'\n",
      " '0600' '0601' '0602' '0603' '0604' '0605' '0606' '0607' '0608' '0609'\n",
      " '0610' '0611' '0612' '0613' '0614' '0615' '0616' '0617' '0618' '0619'\n",
      " '0620' '0621' '0622' '0623' '0700' '0701' '0702' '0703' '0704' '0705'\n",
      " '0706' '0707' '0708' '0709' '0710' '0711' '0712' '0713' '0714' '0715'\n",
      " '0716' '0717' '0718' '0719' '0720' '0721' '0722' '0723' '0800' '0801'\n",
      " '0802' '0803' '0804' '0805' '0806' '0807' '0808' '0809' '0810' '0811'\n",
      " '0812' '0813' '0814' '0815' '0816' '0817' '0818' '0819' '0820' '0821'\n",
      " '0822' '0823' '0900' '0901' '0902' '0903' '0904' '0905' '0906' '0907'\n",
      " '0908' '0909' '0910' '0911' '0912' '0913' '0914' '0915' '0916' '0917'\n",
      " '0918' '0919' '0920' '0921' '0922' '0923' '1000' '1001' '1002' '1003'\n",
      " '1004' '1005' '1006' '1007' '1008' '1009' '1010' '1011' '1012' '1013'\n",
      " '1014' '1015' '1016' '1017' '1018' '1019' '1020' '1021' '1022' '1023'\n",
      " '1100' '1101' '1102' '1103' '1104' '1105' '1106' '1107' '1108' '1109'\n",
      " '1110' '1111' '1112' '1113' '1114' '1115' '1116' '1117' '1118' '1119'\n",
      " '1120' '1121' '1122' '1123' '1200' '1201' '1202' '1203' '1204' '1205'\n",
      " '1206' '1207' '1208' '1209' '1210' '1211' '1212' '1213' '1214' '1215'\n",
      " '1216' '1217' '1218' '1219' '1220' '1221' '1222' '1223' '']\n"
     ]
    }
   ],
   "source": [
    "uni=df.dayhour.unique()\n",
    "print(uni)"
   ]
  },
  {
   "cell_type": "code",
   "execution_count": 18,
   "metadata": {},
   "outputs": [],
   "source": [
    "def daySplit(a,b,c):\n",
    "    n=[]\n",
    "    for i in c:\n",
    "        if i!=\"\":\n",
    "            m=[]\n",
    "            t=0\n",
    "            for k in a:\n",
    "                if k!=\"\":\n",
    "                    if k==i:\n",
    "                        m.append(b[t])\n",
    "                    t+=1\n",
    "            n.append(statistics.mean(m))\n",
    "    return n"
   ]
  },
  {
   "cell_type": "code",
   "execution_count": 19,
   "metadata": {},
   "outputs": [],
   "source": [
    "d=daySplit(df['dayhour'],df['ROLLING SYSTEM DEMAND'],uni)"
   ]
  },
  {
   "cell_type": "code",
   "execution_count": 20,
   "metadata": {},
   "outputs": [
    {
     "name": "stdout",
     "output_type": "stream",
     "text": [
      "[24716.583333333332, 24132.166666666668, 23463.5, 23178.166666666668, 23772.583333333332, 27582.0, 32784.0, 34643.166666666664, 34461.5, 33511.0, 33062.333333333336, 32968.75, 32124.25, 31451.25, 31796.25, 34070.833333333336, 36058.916666666664, 37730.166666666664, 38189.25, 36284.833333333336, 33040.5, 29182.666666666668, 25087.666666666668, 22907.583333333332, 22260.833333333332, 22277.0, 21734.75, 21329.666666666668, 22018.166666666668, 25838.833333333332, 30616.666666666668, 33585.25, 34485.166666666664, 34274.5, 34151.333333333336, 33972.083333333336, 33274.416666666664, 32839.083333333336, 32467.333333333332, 33685.416666666664, 35264.5, 36147.083333333336, 36015.5, 33614.833333333336, 30532.833333333332, 27330.75, 24059.083333333332, 21962.083333333332, 21619.166666666668, 22162.916666666668, 21837.5, 21275.833333333332, 20776.166666666668, 22091.583333333332, 25168.333333333332, 27985.5, 30124.833333333332, 31538.833333333332, 32336.75, 32536.833333333332, 31716.666666666668, 31025.75, 31017.0, 32111.416666666668, 33896.416666666664, 34755.75, 34182.25, 31579.916666666668, 28917.583333333332, 26294.166666666668, 24150.666666666668, 22371.333333333332, 21916.25, 21543.166666666668, 20967.333333333332, 20567.583333333332, 20585.833333333332, 21577.0, 23078.083333333332, 25281.833333333332, 28314.0, 29895.166666666668, 30693.166666666668, 31361.0, 30960.333333333332, 30910.166666666668, 31218.083333333332, 32949.333333333336, 34623.583333333336, 35111.0, 34792.25, 32266.416666666668, 29718.583333333332, 26869.416666666668, 23879.833333333332, 21976.5, 21930.0, 22013.5, 21763.75, 21618.25, 22031.833333333332, 26435.166666666668, 31812.583333333332, 34025.333333333336, 34282.916666666664, 33817.166666666664, 33523.333333333336, 33188.583333333336, 33090.916666666664, 33102.25, 33728.583333333336, 35818.166666666664, 37844.583333333336, 38650.333333333336, 38361.166666666664, 35225.916666666664, 31664.416666666668, 27867.25, 24283.0, 22823.583333333332, 22658.5, 22785.083333333332, 22434.25, 21693.666666666668, 22449.75, 26754.333333333332, 31863.75, 32985.75, 32656.083333333332, 32185.333333333332, 31920.0, 31872.666666666668, 31130.333333333332, 30777.5, 31202.166666666668, 33199.5, 35418.583333333336, 36837.416666666664, 36818.5, 34102.0, 30832.416666666668, 27116.75, 23307.0, 21685.666666666668, 22001.083333333332, 22571.833333333332, 22475.166666666668, 23080.833333333332, 23934.25, 26504.5, 31752.583333333332, 33684.5, 33356.5, 31459.166666666668, 30091.166666666668, 30493.666666666668, 29839.916666666668, 30140.083333333332, 31196.583333333332, 34178.0, 37297.0, 39176.75, 38901.166666666664, 36097.5, 32827.75, 28982.833333333332, 25259.0, 22863.333333333332, 22122.833333333332, 21991.833333333332, 21762.916666666668, 21655.0, 22375.416666666668, 25856.666666666668, 31383.916666666668, 34138.833333333336, 34753.416666666664, 34245.25, 33919.416666666664, 33999.5, 33242.416666666664, 32627.333333333332, 32955.583333333336, 35132.25, 37347.0, 38193.666666666664, 37931.583333333336, 35054.333333333336, 32129.5, 29404.0, 25055.666666666668, 22701.0, 22385.166666666668, 22189.416666666668, 21626.583333333332, 21742.75, 22504.583333333332, 26718.083333333332, 31219.416666666668, 32856.666666666664, 32419.75, 31761.916666666668, 31360.25, 31447.916666666668, 31195.833333333332, 30725.166666666668, 30877.583333333332, 32427.416666666668, 34827.5, 36445.25, 36499.583333333336, 34060.833333333336, 30958.583333333332, 27628.166666666668, 24632.083333333332, 23123.083333333332, 22777.333333333332, 22511.583333333332, 21789.5, 22205.083333333332, 22574.75, 23422.166666666668, 25456.5, 27720.416666666668, 28466.75, 28814.583333333332, 28191.833333333332, 28342.083333333332, 28047.583333333332, 27814.333333333332, 28165.333333333332, 29936.5, 32806.416666666664, 34506.416666666664, 34235.833333333336, 32078.25, 29836.166666666668, 26916.166666666668, 24010.833333333332, 21980.416666666668, 21852.083333333332, 22208.666666666668, 21857.583333333332, 21864.083333333332, 22023.0, 22107.75, 24128.0, 26294.916666666668, 27785.5, 27826.833333333332, 27814.916666666668, 28786.583333333332, 28850.5, 28845.833333333332, 29882.0, 32370.333333333332, 35626.166666666664, 36944.916666666664, 36420.0, 34299.25, 31565.833333333332, 28484.75, 25025.416666666668, 22809.25, 22961.75, 22995.75, 22376.333333333332, 22419.916666666668, 23125.583333333332, 27678.166666666668, 33133.666666666664, 36349.916666666664, 36606.583333333336, 36600.75, 36686.833333333336, 36841.166666666664, 36614.583333333336, 36244.083333333336, 36355.083333333336, 37332.833333333336, 38901.5, 39668.666666666664, 38396.166666666664, 35599.666666666664, 32294.25, 28903.916666666668, 25016.916666666668, 23510.916666666668]\n"
     ]
    }
   ],
   "source": [
    "print(d)"
   ]
  },
  {
   "cell_type": "code",
   "execution_count": 21,
   "metadata": {},
   "outputs": [],
   "source": [
    "dfd = pd.DataFrame(d, columns =['Average Power Consumption per Hour & Day']) "
   ]
  },
  {
   "cell_type": "code",
   "execution_count": 22,
   "metadata": {},
   "outputs": [
    {
     "data": {
      "image/png": "[encoded data removed]",
      "text/plain": [
       "<Figure size 432x288 with 1 Axes>"
      ]
     },
     "metadata": {
      "needs_background": "light"
     },
     "output_type": "display_data"
    }
   ],
   "source": [
    "dfd.plot.bar(y='Average Power Consumption per Hour & Day',rot=0);"
   ]
  },
  {
   "cell_type": "markdown",
   "metadata": {},
   "source": [
    "# Assignment 2"
   ]
  },
  {
   "cell_type": "code",
   "execution_count": 23,
   "metadata": {},
   "outputs": [
    {
     "data": {
      "text/plain": [
       "[6, 5, 2, 1, 6, 2, 4, 3, 2, 4, 3, 3, 5, 2, 2, 6, 2, 3, 5, 3, 2, 2, 2, 1, 5, 4]"
      ]
     },
     "execution_count": 23,
     "metadata": {},
     "output_type": "execute_result"
    }
   ],
   "source": [
    "import random\n",
    "\n",
    "def fairDie(rolls):\n",
    "    results=[]\n",
    "    for i in range(0,rolls):\n",
    "        results.append(random.randint(1,6))\n",
    "    return results\n",
    "fairDie(26)"
   ]
  },
  {
   "cell_type": "code",
   "execution_count": 24,
   "metadata": {},
   "outputs": [
    {
     "data": {
      "text/plain": [
       "[6, 6, 6, 4, 6, 2, 3, 6, 2, 2, 6, 4, 4, 1, 2, 2, 6, 2, 6, 4, 1, 5, 6, 5, 2, 5]"
      ]
     },
     "execution_count": 24,
     "metadata": {},
     "output_type": "execute_result"
    }
   ],
   "source": [
    "def loadedDie(rolls):\n",
    "    results=[]\n",
    "    myList = [1]*15+[2]*15+[3]*15+[4]*15+[5]*15+[6]*25\n",
    "    for i in range(0,rolls):\n",
    "        results.append(random.choice(myList))\n",
    "    return results\n",
    "loadedDie(26)"
   ]
  },
  {
   "cell_type": "code",
   "execution_count": 25,
   "metadata": {},
   "outputs": [],
   "source": [
    "import matplotlib.pyplot as plt\n",
    "import numpy as np"
   ]
  },
  {
   "cell_type": "code",
   "execution_count": 26,
   "metadata": {},
   "outputs": [
    {
     "name": "stdout",
     "output_type": "stream",
     "text": [
      "How many dice rolls?2000\n"
     ]
    },
    {
     "data": {
      "image/png": "[encoded data removed]",
      "text/plain": [
       "<Figure size 432x288 with 1 Axes>"
      ]
     },
     "metadata": {
      "needs_background": "light"
     },
     "output_type": "display_data"
    }
   ],
   "source": [
    "r=input(\"How many dice rolls?\")\n",
    "x=fairDie(int(r))\n",
    "y=loadedDie(int(r))\n",
    "\n",
    "bins = np.linspace(0.5, 6.5, 7)\n",
    "plt.style.use('seaborn-deep')\n",
    "plt.hist([x, y], bins, label=['fair', 'loaded'])\n",
    "plt.legend(loc='best')\n",
    "plt.show()"
   ]
  },
  {
   "cell_type": "code",
   "execution_count": null,
   "metadata": {},
   "outputs": [],
   "source": []
  }
 ],
 "metadata": {
  "kernelspec": {
   "display_name": "Python 3",
   "language": "python",
   "name": "python3"
  },
  "language_info": {
   "codemirror_mode": {
    "name": "ipython",
    "version": 3
   },
   "file_extension": ".py",
   "mimetype": "text/x-python",
   "name": "python",
   "nbconvert_exporter": "python",
   "pygments_lexer": "ipython3",
   "version": "3.7.4"
  }
 },
 "nbformat": 4,
 "nbformat_minor": 2
}
