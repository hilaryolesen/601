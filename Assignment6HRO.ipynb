{
 "cells": [
  {
   "cell_type": "code",
   "execution_count": 1,
   "metadata": {},
   "outputs": [
    {
     "name": "stdout",
     "output_type": "stream",
     "text": [
      "['main', 'another']\n"
     ]
    }
   ],
   "source": [
    "from openpyxl import load_workbook\n",
    "wb = load_workbook('week_05_homework_XLSX_openpyxl.xlsx')\n",
    "wb2= load_workbook('week_05_homework_XLSX_openpyxl.xlsx',data_only=True)\n",
    "print(wb.sheetnames)"
   ]
  },
  {
   "cell_type": "code",
   "execution_count": 2,
   "metadata": {},
   "outputs": [],
   "source": [
    "wm=wb['main']\n",
    "wa=wb['another']\n",
    "wa2=wb2['another']"
   ]
  },
  {
   "cell_type": "code",
   "execution_count": 3,
   "metadata": {},
   "outputs": [
    {
     "name": "stdout",
     "output_type": "stream",
     "text": [
      "patient id\n",
      "age\n",
      "smoking\n",
      "smart\n",
      "asdf\n",
      "min im\n"
     ]
    }
   ],
   "source": [
    "for cell in wm.columns:\n",
    "    print(cell[0].value)"
   ]
  },
  {
   "cell_type": "code",
   "execution_count": 4,
   "metadata": {},
   "outputs": [
    {
     "name": "stdout",
     "output_type": "stream",
     "text": [
      "p_id\n",
      "nam\n",
      "kf\n",
      "ave\n"
     ]
    }
   ],
   "source": [
    "for cell in wa.columns:\n",
    "    print(cell[0].value)"
   ]
  },
  {
   "cell_type": "code",
   "execution_count": 5,
   "metadata": {},
   "outputs": [
    {
     "name": "stdout",
     "output_type": "stream",
     "text": [
      "[95909, 10369, 1111, 75658, 25765, 4323, 14530, 21888, 43631, 532, 70171, 66435, 81574, 67203, 19792, 64, 21922, 49434, 64334, 775, 51090, 72970, 34]\n"
     ]
    }
   ],
   "source": [
    "p=[]\n",
    "for row in wa.rows:\n",
    "    c=row[0].value\n",
    "    if c!='p_id':\n",
    "        p.append(c)\n",
    "print(p)"
   ]
  },
  {
   "cell_type": "code",
   "execution_count": 6,
   "metadata": {},
   "outputs": [
    {
     "name": "stdout",
     "output_type": "stream",
     "text": [
      "[95909, 10369, 35101, 25192, 75658, 25765, 57464, 14530, 21888, 43631, 14528, 70171, 14654, 81574, 67203, 19792, 95847, 21922, 49434, 64334, 11988, 51090, 72970, 57054]\n"
     ]
    }
   ],
   "source": [
    "patient=[]\n",
    "for row in wm.rows:\n",
    "    c=row[0].value\n",
    "    if c!='patient id':\n",
    "        patient.append(c)\n",
    "print(patient)"
   ]
  },
  {
   "cell_type": "code",
   "execution_count": 7,
   "metadata": {},
   "outputs": [
    {
     "data": {
      "text/plain": [
       "'p_id'"
      ]
     },
     "execution_count": 7,
     "metadata": {},
     "output_type": "execute_result"
    }
   ],
   "source": [
    "wa['A1'].value"
   ]
  },
  {
   "cell_type": "code",
   "execution_count": 8,
   "metadata": {},
   "outputs": [
    {
     "data": {
      "text/plain": [
       "10369"
      ]
     },
     "execution_count": 8,
     "metadata": {},
     "output_type": "execute_result"
    }
   ],
   "source": [
    "wm.cell(row=3,column=1).value"
   ]
  },
  {
   "cell_type": "code",
   "execution_count": 9,
   "metadata": {},
   "outputs": [
    {
     "name": "stdout",
     "output_type": "stream",
     "text": [
      "patient id age     \n",
      "   95909       51\n",
      "   10369       49\n",
      "   35101       56\n",
      "   25192       47\n",
      "   75658       50\n"
     ]
    }
   ],
   "source": [
    "cells = wm['A1': 'B6']\n",
    "\n",
    "for c1, c2 in cells:\n",
    "    print(\"{0:8} {1:8}\".format(c1.value, c2.value))"
   ]
  },
  {
   "cell_type": "code",
   "execution_count": 10,
   "metadata": {},
   "outputs": [
    {
     "name": "stdout",
     "output_type": "stream",
     "text": [
      "Maximum row on main: 25\n"
     ]
    }
   ],
   "source": [
    "print(\"Maximum row on main: {0}\".format(wm.max_row))"
   ]
  },
  {
   "cell_type": "code",
   "execution_count": 11,
   "metadata": {},
   "outputs": [
    {
     "name": "stdout",
     "output_type": "stream",
     "text": [
      "Maximum row on another: 24\n"
     ]
    }
   ],
   "source": [
    "print(\"Maximum row on another: {0}\".format(wa.max_row))"
   ]
  },
  {
   "cell_type": "code",
   "execution_count": 12,
   "metadata": {},
   "outputs": [
    {
     "name": "stdout",
     "output_type": "stream",
     "text": [
      "Maximum column on another: 4\n"
     ]
    }
   ],
   "source": [
    "print(\"Maximum column on another: {0}\".format(wa.max_column))"
   ]
  },
  {
   "cell_type": "code",
   "execution_count": 13,
   "metadata": {},
   "outputs": [
    {
     "name": "stdout",
     "output_type": "stream",
     "text": [
      "Maximum column on main: 6\n"
     ]
    }
   ],
   "source": [
    "print(\"Maximum column on main: {0}\".format(wm.max_column))"
   ]
  },
  {
   "cell_type": "code",
   "execution_count": 14,
   "metadata": {},
   "outputs": [],
   "source": [
    "maxa=(wa.max_column)\n",
    "maxm=(wm.max_column)\n",
    "maxrowm=(wm.max_row)\n",
    "maxrowa=(wa.max_row)\n",
    "for h in range(maxm+1,maxm+maxa):\n",
    "    wm.cell(row=1,column=h).value=wa.cell(row=1,column=(h-maxm+1)).value\n",
    "\n",
    "\n",
    "for i in range(2,maxrowa+1):\n",
    "    first=wa.cell(row=i,column=1).value\n",
    "    t=0\n",
    "    for k in range(2,maxrowm+1):\n",
    "        second=wm.cell(row=k,column=1).value\n",
    "        if first==second:\n",
    "            t=1\n",
    "            for z in range(maxm+1,maxm+maxa):\n",
    "                wm.cell(row=k, column=z).value = wa2.cell(row=i, column=(z-maxm+1)).value\n",
    "    if t==0:\n",
    "        currentmax=wm.max_row\n",
    "        wm.cell(row=currentmax+1,column=1).value=first\n",
    "        for j in range(maxm+1,maxm+maxa):\n",
    "            wm.cell(row=currentmax+1,column=j).value=wa2.cell(row=i,column=(j-maxm+1)).value"
   ]
  },
  {
   "cell_type": "code",
   "execution_count": 15,
   "metadata": {},
   "outputs": [
    {
     "data": {
      "text/plain": [
       "32"
      ]
     },
     "execution_count": 15,
     "metadata": {},
     "output_type": "execute_result"
    }
   ],
   "source": [
    "wm.max_row"
   ]
  },
  {
   "cell_type": "code",
   "execution_count": 16,
   "metadata": {},
   "outputs": [
    {
     "data": {
      "text/plain": [
       "9"
      ]
     },
     "execution_count": 16,
     "metadata": {},
     "output_type": "execute_result"
    }
   ],
   "source": [
    "wm.max_column"
   ]
  },
  {
   "cell_type": "code",
   "execution_count": 17,
   "metadata": {},
   "outputs": [],
   "source": [
    "wb.save('assignment6HRO.xlsx')"
   ]
  },
  {
   "cell_type": "code",
   "execution_count": null,
   "metadata": {},
   "outputs": [],
   "source": []
  }
 ],
 "metadata": {
  "kernelspec": {
   "display_name": "Python 3",
   "language": "python",
   "name": "python3"
  },
  "language_info": {
   "codemirror_mode": {
    "name": "ipython",
    "version": 3
   },
   "file_extension": ".py",
   "mimetype": "text/x-python",
   "name": "python",
   "nbconvert_exporter": "python",
   "pygments_lexer": "ipython3",
   "version": "3.7.4"
  }
 },
 "nbformat": 4,
 "nbformat_minor": 2
}
